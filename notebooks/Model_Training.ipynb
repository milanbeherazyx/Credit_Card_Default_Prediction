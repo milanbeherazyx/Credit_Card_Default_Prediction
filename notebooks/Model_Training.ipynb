{
 "cells": [
  {
   "cell_type": "code",
   "execution_count": 1,
   "id": "76a0545a-ac1b-46fe-9c69-4fc344937422",
   "metadata": {},
   "outputs": [],
   "source": [
    "#import the required libraries\n",
    "import numpy as np \n",
    "import pandas as pd \n",
    "import seaborn as sns \n",
    "import matplotlib.ticker as mtick  \n",
    "import matplotlib.pyplot as plt\n",
    "%matplotlib inline\n",
    "\n",
    "import warnings\n",
    "warnings.filterwarnings('ignore')\n",
    "\n",
    "\n",
    "from sklearn.model_selection import train_test_split\n",
    "from imblearn.over_sampling import SMOTE\n",
    "from sklearn.pipeline import make_pipeline\n",
    "from sklearn.compose import ColumnTransformer\n",
    "from sklearn.preprocessing import StandardScaler, OneHotEncoder\n",
    "from sklearn.impute import SimpleImputer\n",
    "from sklearn.ensemble import RandomForestClassifier\n",
    "from xgboost import XGBClassifier\n",
    "from sklearn.svm import SVC\n",
    "from sklearn.ensemble import IsolationForest\n",
    "from sklearn.neural_network import MLPClassifier\n",
    "from sklearn.model_selection import GridSearchCV\n",
    "from sklearn.metrics import classification_report\n",
    "\n",
    "import pickle"
   ]
  },
  {
   "cell_type": "code",
   "execution_count": 2,
   "id": "c6a36d9f-dabb-40b0-9593-f60fea490c06",
   "metadata": {},
   "outputs": [
    {
     "data": {
      "text/html": [
       "<div>\n",
       "<style scoped>\n",
       "    .dataframe tbody tr th:only-of-type {\n",
       "        vertical-align: middle;\n",
       "    }\n",
       "\n",
       "    .dataframe tbody tr th {\n",
       "        vertical-align: top;\n",
       "    }\n",
       "\n",
       "    .dataframe thead th {\n",
       "        text-align: right;\n",
       "    }\n",
       "</style>\n",
       "<table border=\"1\" class=\"dataframe\">\n",
       "  <thead>\n",
       "    <tr style=\"text-align: right;\">\n",
       "      <th></th>\n",
       "      <th>LIMIT_BAL</th>\n",
       "      <th>SEX</th>\n",
       "      <th>EDUCATION</th>\n",
       "      <th>MARRIAGE</th>\n",
       "      <th>AGE</th>\n",
       "      <th>PAY_0</th>\n",
       "      <th>PAY_2</th>\n",
       "      <th>PAY_3</th>\n",
       "      <th>PAY_4</th>\n",
       "      <th>PAY_5</th>\n",
       "      <th>...</th>\n",
       "      <th>BILL_AMT4</th>\n",
       "      <th>BILL_AMT5</th>\n",
       "      <th>BILL_AMT6</th>\n",
       "      <th>PAY_AMT1</th>\n",
       "      <th>PAY_AMT2</th>\n",
       "      <th>PAY_AMT3</th>\n",
       "      <th>PAY_AMT4</th>\n",
       "      <th>PAY_AMT5</th>\n",
       "      <th>PAY_AMT6</th>\n",
       "      <th>DEFAULT</th>\n",
       "    </tr>\n",
       "  </thead>\n",
       "  <tbody>\n",
       "    <tr>\n",
       "      <th>0</th>\n",
       "      <td>20000.0</td>\n",
       "      <td>2</td>\n",
       "      <td>2</td>\n",
       "      <td>1</td>\n",
       "      <td>24</td>\n",
       "      <td>2</td>\n",
       "      <td>2</td>\n",
       "      <td>-1</td>\n",
       "      <td>-1</td>\n",
       "      <td>-2</td>\n",
       "      <td>...</td>\n",
       "      <td>0.0</td>\n",
       "      <td>0.0</td>\n",
       "      <td>0.0</td>\n",
       "      <td>0.0</td>\n",
       "      <td>689.0</td>\n",
       "      <td>0.0</td>\n",
       "      <td>0.0</td>\n",
       "      <td>0.0</td>\n",
       "      <td>0.0</td>\n",
       "      <td>1</td>\n",
       "    </tr>\n",
       "    <tr>\n",
       "      <th>1</th>\n",
       "      <td>120000.0</td>\n",
       "      <td>2</td>\n",
       "      <td>2</td>\n",
       "      <td>2</td>\n",
       "      <td>26</td>\n",
       "      <td>-1</td>\n",
       "      <td>2</td>\n",
       "      <td>0</td>\n",
       "      <td>0</td>\n",
       "      <td>0</td>\n",
       "      <td>...</td>\n",
       "      <td>3272.0</td>\n",
       "      <td>3455.0</td>\n",
       "      <td>3261.0</td>\n",
       "      <td>0.0</td>\n",
       "      <td>1000.0</td>\n",
       "      <td>1000.0</td>\n",
       "      <td>1000.0</td>\n",
       "      <td>0.0</td>\n",
       "      <td>2000.0</td>\n",
       "      <td>1</td>\n",
       "    </tr>\n",
       "    <tr>\n",
       "      <th>2</th>\n",
       "      <td>90000.0</td>\n",
       "      <td>2</td>\n",
       "      <td>2</td>\n",
       "      <td>2</td>\n",
       "      <td>34</td>\n",
       "      <td>0</td>\n",
       "      <td>0</td>\n",
       "      <td>0</td>\n",
       "      <td>0</td>\n",
       "      <td>0</td>\n",
       "      <td>...</td>\n",
       "      <td>14331.0</td>\n",
       "      <td>14948.0</td>\n",
       "      <td>15549.0</td>\n",
       "      <td>1518.0</td>\n",
       "      <td>1500.0</td>\n",
       "      <td>1000.0</td>\n",
       "      <td>1000.0</td>\n",
       "      <td>1000.0</td>\n",
       "      <td>5000.0</td>\n",
       "      <td>0</td>\n",
       "    </tr>\n",
       "    <tr>\n",
       "      <th>3</th>\n",
       "      <td>50000.0</td>\n",
       "      <td>2</td>\n",
       "      <td>2</td>\n",
       "      <td>1</td>\n",
       "      <td>37</td>\n",
       "      <td>0</td>\n",
       "      <td>0</td>\n",
       "      <td>0</td>\n",
       "      <td>0</td>\n",
       "      <td>0</td>\n",
       "      <td>...</td>\n",
       "      <td>28314.0</td>\n",
       "      <td>28959.0</td>\n",
       "      <td>29547.0</td>\n",
       "      <td>2000.0</td>\n",
       "      <td>2019.0</td>\n",
       "      <td>1200.0</td>\n",
       "      <td>1100.0</td>\n",
       "      <td>1069.0</td>\n",
       "      <td>1000.0</td>\n",
       "      <td>0</td>\n",
       "    </tr>\n",
       "    <tr>\n",
       "      <th>4</th>\n",
       "      <td>50000.0</td>\n",
       "      <td>1</td>\n",
       "      <td>2</td>\n",
       "      <td>1</td>\n",
       "      <td>57</td>\n",
       "      <td>-1</td>\n",
       "      <td>0</td>\n",
       "      <td>-1</td>\n",
       "      <td>0</td>\n",
       "      <td>0</td>\n",
       "      <td>...</td>\n",
       "      <td>20940.0</td>\n",
       "      <td>19146.0</td>\n",
       "      <td>19131.0</td>\n",
       "      <td>2000.0</td>\n",
       "      <td>36681.0</td>\n",
       "      <td>10000.0</td>\n",
       "      <td>9000.0</td>\n",
       "      <td>689.0</td>\n",
       "      <td>679.0</td>\n",
       "      <td>0</td>\n",
       "    </tr>\n",
       "    <tr>\n",
       "      <th>...</th>\n",
       "      <td>...</td>\n",
       "      <td>...</td>\n",
       "      <td>...</td>\n",
       "      <td>...</td>\n",
       "      <td>...</td>\n",
       "      <td>...</td>\n",
       "      <td>...</td>\n",
       "      <td>...</td>\n",
       "      <td>...</td>\n",
       "      <td>...</td>\n",
       "      <td>...</td>\n",
       "      <td>...</td>\n",
       "      <td>...</td>\n",
       "      <td>...</td>\n",
       "      <td>...</td>\n",
       "      <td>...</td>\n",
       "      <td>...</td>\n",
       "      <td>...</td>\n",
       "      <td>...</td>\n",
       "      <td>...</td>\n",
       "      <td>...</td>\n",
       "    </tr>\n",
       "    <tr>\n",
       "      <th>29995</th>\n",
       "      <td>220000.0</td>\n",
       "      <td>1</td>\n",
       "      <td>3</td>\n",
       "      <td>1</td>\n",
       "      <td>39</td>\n",
       "      <td>0</td>\n",
       "      <td>0</td>\n",
       "      <td>0</td>\n",
       "      <td>0</td>\n",
       "      <td>0</td>\n",
       "      <td>...</td>\n",
       "      <td>88004.0</td>\n",
       "      <td>31237.0</td>\n",
       "      <td>15980.0</td>\n",
       "      <td>8500.0</td>\n",
       "      <td>20000.0</td>\n",
       "      <td>5003.0</td>\n",
       "      <td>3047.0</td>\n",
       "      <td>5000.0</td>\n",
       "      <td>1000.0</td>\n",
       "      <td>0</td>\n",
       "    </tr>\n",
       "    <tr>\n",
       "      <th>29996</th>\n",
       "      <td>150000.0</td>\n",
       "      <td>1</td>\n",
       "      <td>3</td>\n",
       "      <td>2</td>\n",
       "      <td>43</td>\n",
       "      <td>-1</td>\n",
       "      <td>-1</td>\n",
       "      <td>-1</td>\n",
       "      <td>-1</td>\n",
       "      <td>0</td>\n",
       "      <td>...</td>\n",
       "      <td>8979.0</td>\n",
       "      <td>5190.0</td>\n",
       "      <td>0.0</td>\n",
       "      <td>1837.0</td>\n",
       "      <td>3526.0</td>\n",
       "      <td>8998.0</td>\n",
       "      <td>129.0</td>\n",
       "      <td>0.0</td>\n",
       "      <td>0.0</td>\n",
       "      <td>0</td>\n",
       "    </tr>\n",
       "    <tr>\n",
       "      <th>29997</th>\n",
       "      <td>30000.0</td>\n",
       "      <td>1</td>\n",
       "      <td>2</td>\n",
       "      <td>2</td>\n",
       "      <td>37</td>\n",
       "      <td>4</td>\n",
       "      <td>3</td>\n",
       "      <td>2</td>\n",
       "      <td>-1</td>\n",
       "      <td>0</td>\n",
       "      <td>...</td>\n",
       "      <td>20878.0</td>\n",
       "      <td>20582.0</td>\n",
       "      <td>19357.0</td>\n",
       "      <td>0.0</td>\n",
       "      <td>0.0</td>\n",
       "      <td>22000.0</td>\n",
       "      <td>4200.0</td>\n",
       "      <td>2000.0</td>\n",
       "      <td>3100.0</td>\n",
       "      <td>1</td>\n",
       "    </tr>\n",
       "    <tr>\n",
       "      <th>29998</th>\n",
       "      <td>80000.0</td>\n",
       "      <td>1</td>\n",
       "      <td>3</td>\n",
       "      <td>1</td>\n",
       "      <td>41</td>\n",
       "      <td>1</td>\n",
       "      <td>-1</td>\n",
       "      <td>0</td>\n",
       "      <td>0</td>\n",
       "      <td>0</td>\n",
       "      <td>...</td>\n",
       "      <td>52774.0</td>\n",
       "      <td>11855.0</td>\n",
       "      <td>48944.0</td>\n",
       "      <td>85900.0</td>\n",
       "      <td>3409.0</td>\n",
       "      <td>1178.0</td>\n",
       "      <td>1926.0</td>\n",
       "      <td>52964.0</td>\n",
       "      <td>1804.0</td>\n",
       "      <td>1</td>\n",
       "    </tr>\n",
       "    <tr>\n",
       "      <th>29999</th>\n",
       "      <td>50000.0</td>\n",
       "      <td>1</td>\n",
       "      <td>2</td>\n",
       "      <td>1</td>\n",
       "      <td>46</td>\n",
       "      <td>0</td>\n",
       "      <td>0</td>\n",
       "      <td>0</td>\n",
       "      <td>0</td>\n",
       "      <td>0</td>\n",
       "      <td>...</td>\n",
       "      <td>36535.0</td>\n",
       "      <td>32428.0</td>\n",
       "      <td>15313.0</td>\n",
       "      <td>2078.0</td>\n",
       "      <td>1800.0</td>\n",
       "      <td>1430.0</td>\n",
       "      <td>1000.0</td>\n",
       "      <td>1000.0</td>\n",
       "      <td>1000.0</td>\n",
       "      <td>1</td>\n",
       "    </tr>\n",
       "  </tbody>\n",
       "</table>\n",
       "<p>30000 rows × 24 columns</p>\n",
       "</div>"
      ],
      "text/plain": [
       "       LIMIT_BAL  SEX  EDUCATION  MARRIAGE  AGE  PAY_0  PAY_2  PAY_3  PAY_4  \\\n",
       "0        20000.0    2          2         1   24      2      2     -1     -1   \n",
       "1       120000.0    2          2         2   26     -1      2      0      0   \n",
       "2        90000.0    2          2         2   34      0      0      0      0   \n",
       "3        50000.0    2          2         1   37      0      0      0      0   \n",
       "4        50000.0    1          2         1   57     -1      0     -1      0   \n",
       "...          ...  ...        ...       ...  ...    ...    ...    ...    ...   \n",
       "29995   220000.0    1          3         1   39      0      0      0      0   \n",
       "29996   150000.0    1          3         2   43     -1     -1     -1     -1   \n",
       "29997    30000.0    1          2         2   37      4      3      2     -1   \n",
       "29998    80000.0    1          3         1   41      1     -1      0      0   \n",
       "29999    50000.0    1          2         1   46      0      0      0      0   \n",
       "\n",
       "       PAY_5  ...  BILL_AMT4  BILL_AMT5  BILL_AMT6  PAY_AMT1  PAY_AMT2  \\\n",
       "0         -2  ...        0.0        0.0        0.0       0.0     689.0   \n",
       "1          0  ...     3272.0     3455.0     3261.0       0.0    1000.0   \n",
       "2          0  ...    14331.0    14948.0    15549.0    1518.0    1500.0   \n",
       "3          0  ...    28314.0    28959.0    29547.0    2000.0    2019.0   \n",
       "4          0  ...    20940.0    19146.0    19131.0    2000.0   36681.0   \n",
       "...      ...  ...        ...        ...        ...       ...       ...   \n",
       "29995      0  ...    88004.0    31237.0    15980.0    8500.0   20000.0   \n",
       "29996      0  ...     8979.0     5190.0        0.0    1837.0    3526.0   \n",
       "29997      0  ...    20878.0    20582.0    19357.0       0.0       0.0   \n",
       "29998      0  ...    52774.0    11855.0    48944.0   85900.0    3409.0   \n",
       "29999      0  ...    36535.0    32428.0    15313.0    2078.0    1800.0   \n",
       "\n",
       "       PAY_AMT3  PAY_AMT4  PAY_AMT5  PAY_AMT6  DEFAULT  \n",
       "0           0.0       0.0       0.0       0.0        1  \n",
       "1        1000.0    1000.0       0.0    2000.0        1  \n",
       "2        1000.0    1000.0    1000.0    5000.0        0  \n",
       "3        1200.0    1100.0    1069.0    1000.0        0  \n",
       "4       10000.0    9000.0     689.0     679.0        0  \n",
       "...         ...       ...       ...       ...      ...  \n",
       "29995    5003.0    3047.0    5000.0    1000.0        0  \n",
       "29996    8998.0     129.0       0.0       0.0        0  \n",
       "29997   22000.0    4200.0    2000.0    3100.0        1  \n",
       "29998    1178.0    1926.0   52964.0    1804.0        1  \n",
       "29999    1430.0    1000.0    1000.0    1000.0        1  \n",
       "\n",
       "[30000 rows x 24 columns]"
      ]
     },
     "execution_count": 2,
     "metadata": {},
     "output_type": "execute_result"
    }
   ],
   "source": [
    "# Read the Excel file from the URL using pandas\n",
    "df = pd.read_csv('./data/UCI_Credit_Card_modified.csv')\n",
    "# ID column has no use, so lets drop it\n",
    "df = df.drop('ID', axis=1)\n",
    "df"
   ]
  },
  {
   "cell_type": "code",
   "execution_count": 3,
   "id": "9f460c03",
   "metadata": {},
   "outputs": [
    {
     "name": "stdout",
     "output_type": "stream",
     "text": [
      "<class 'pandas.core.frame.DataFrame'>\n",
      "RangeIndex: 30000 entries, 0 to 29999\n",
      "Data columns (total 24 columns):\n",
      " #   Column     Non-Null Count  Dtype  \n",
      "---  ------     --------------  -----  \n",
      " 0   LIMIT_BAL  30000 non-null  float64\n",
      " 1   SEX        30000 non-null  int64  \n",
      " 2   EDUCATION  30000 non-null  int64  \n",
      " 3   MARRIAGE   30000 non-null  int64  \n",
      " 4   AGE        30000 non-null  int64  \n",
      " 5   PAY_0      30000 non-null  int64  \n",
      " 6   PAY_2      30000 non-null  int64  \n",
      " 7   PAY_3      30000 non-null  int64  \n",
      " 8   PAY_4      30000 non-null  int64  \n",
      " 9   PAY_5      30000 non-null  int64  \n",
      " 10  PAY_6      30000 non-null  int64  \n",
      " 11  BILL_AMT1  30000 non-null  float64\n",
      " 12  BILL_AMT2  30000 non-null  float64\n",
      " 13  BILL_AMT3  30000 non-null  float64\n",
      " 14  BILL_AMT4  30000 non-null  float64\n",
      " 15  BILL_AMT5  30000 non-null  float64\n",
      " 16  BILL_AMT6  30000 non-null  float64\n",
      " 17  PAY_AMT1   30000 non-null  float64\n",
      " 18  PAY_AMT2   30000 non-null  float64\n",
      " 19  PAY_AMT3   30000 non-null  float64\n",
      " 20  PAY_AMT4   30000 non-null  float64\n",
      " 21  PAY_AMT5   30000 non-null  float64\n",
      " 22  PAY_AMT6   30000 non-null  float64\n",
      " 23  DEFAULT    30000 non-null  int64  \n",
      "dtypes: float64(13), int64(11)\n",
      "memory usage: 5.5 MB\n"
     ]
    }
   ],
   "source": [
    "df.info(verbose=True)"
   ]
  },
  {
   "cell_type": "code",
   "execution_count": 12,
   "id": "e93c55fc",
   "metadata": {},
   "outputs": [],
   "source": [
    "\n",
    "# Define X and y using iloc\n",
    "X = df.iloc[:, :-1]  # Select all columns except the last one\n",
    "y = df.iloc[:, -1]  # Select the last column as the target variable"
   ]
  },
  {
   "cell_type": "code",
   "execution_count": 31,
   "id": "6da297a8",
   "metadata": {},
   "outputs": [],
   "source": [
    "df1 = pd.DataFrame(X, columns=['LIMIT_BAL',\n",
    "                               'SEX',\n",
    "                               'EDUCATION',\n",
    "                               'MARRIAGE',\n",
    "                               'AGE',\n",
    "                               'PAY_0',\n",
    "                               'PAY_2',\n",
    "                               'PAY_3',\n",
    "                               'PAY_4',\n",
    "                               'PAY_5',\n",
    "                               'PAY_6',\n",
    "                               'BILL_AMT1',\n",
    "                               'BILL_AMT2',\n",
    "                               'BILL_AMT3',\n",
    "                               'BILL_AMT4',\n",
    "                               'BILL_AMT5',\n",
    "                               'BILL_AMT6',\n",
    "                               'PAY_AMT1',\n",
    "                               'PAY_AMT2',\n",
    "                               'PAY_AMT3',\n",
    "                               'PAY_AMT4',\n",
    "                               'PAY_AMT5',\n",
    "                               'PAY_AMT6'])\n",
    "df2 = pd.DataFrame(y, columns=['DEFAULT'])\n",
    "final_df = pd.concat([df1, df2], axis=1)"
   ]
  },
  {
   "cell_type": "code",
   "execution_count": 34,
   "id": "fc67ed6b",
   "metadata": {},
   "outputs": [],
   "source": [
    "# transform the dataset\n",
    "oversample = SMOTE()\n",
    "X, y = oversample.fit_resample(final_df[['LIMIT_BAL',\n",
    "                                        'SEX',\n",
    "                                         'EDUCATION',\n",
    "                                         'MARRIAGE',\n",
    "                                         'AGE',\n",
    "                                         'PAY_0',\n",
    "                                         'PAY_2',\n",
    "                                         'PAY_3',\n",
    "                                         'PAY_4',\n",
    "                                         'PAY_5',\n",
    "                                         'PAY_6',\n",
    "                                         'BILL_AMT1',\n",
    "                                         'BILL_AMT2',\n",
    "                                         'BILL_AMT3',\n",
    "                                         'BILL_AMT4',\n",
    "                                         'BILL_AMT5',\n",
    "                                         'BILL_AMT6',\n",
    "                                         'PAY_AMT1',\n",
    "                                         'PAY_AMT2',\n",
    "                                         'PAY_AMT3',\n",
    "                                         'PAY_AMT4',\n",
    "                                         'PAY_AMT5',\n",
    "                                         'PAY_AMT6']], final_df['DEFAULT'])"
   ]
  },
  {
   "cell_type": "code",
   "execution_count": 38,
   "id": "0b579c23",
   "metadata": {},
   "outputs": [
    {
     "name": "stdout",
     "output_type": "stream",
     "text": [
      "(46728, 23)\n",
      "23364\n",
      "23364\n"
     ]
    }
   ],
   "source": [
    "print(X.shape)\n",
    "print(len(y[y == 0]))\n",
    "print(len(y[y == 1]))"
   ]
  },
  {
   "cell_type": "code",
   "execution_count": 39,
   "id": "0fb80ef3",
   "metadata": {},
   "outputs": [],
   "source": [
    "# Split the data into training and test sets\n",
    "X_train, X_test, y_train, y_test = train_test_split(\n",
    "    X, y, test_size=0.2, random_state=42)"
   ]
  },
  {
   "cell_type": "code",
   "execution_count": 41,
   "id": "6a228e29",
   "metadata": {},
   "outputs": [],
   "source": [
    "categorical_cols = ['SEX',\n",
    "                    'EDUCATION',\n",
    "                    'MARRIAGE',\n",
    "                    'PAY_0',\n",
    "                    'PAY_2',\n",
    "                    'PAY_3',\n",
    "                    'PAY_4',\n",
    "                    'PAY_5',\n",
    "                    'PAY_6']\n",
    "numerical_cols = ['LIMIT_BAL',\n",
    "                    'AGE',\n",
    "                    'BILL_AMT1',\n",
    "                    'BILL_AMT2',\n",
    "                    'BILL_AMT3',\n",
    "                    'BILL_AMT4',\n",
    "                    'BILL_AMT5',\n",
    "                    'BILL_AMT6',\n",
    "                    'PAY_AMT1',\n",
    "                    'PAY_AMT2',\n",
    "                    'PAY_AMT3',\n",
    "                    'PAY_AMT4',\n",
    "                    'PAY_AMT5',\n",
    "                    'PAY_AMT6']"
   ]
  },
  {
   "cell_type": "code",
   "execution_count": 42,
   "id": "bdaf8ceb",
   "metadata": {},
   "outputs": [],
   "source": [
    "## feature Engineering Automation\n",
    "## Numerical Pipelines\n",
    "num_pipeline=Pipeline(\n",
    "    steps=[\n",
    "        ('imputer',SimpleImputer(strategy='median')), ##Missing Values\n",
    "        ('scaler',StandardScaler()) ## feature Scaling\n",
    "        ]\n",
    "    )\n",
    "\n",
    "#categorical Pipeline\n",
    "cat_pipeline=Pipeline(\n",
    "    steps=[\n",
    "        ('imputer',SimpleImputer(strategy='most_frequent')), ## handling Missing values\n",
    "        ]\n",
    "    )  \n"
   ]
  },
  {
   "cell_type": "code",
   "execution_count": 43,
   "id": "108ce5f3",
   "metadata": {},
   "outputs": [],
   "source": [
    "preprocessor=ColumnTransformer([\n",
    "    ('num_pipeline',num_pipeline,numerical_cols),\n",
    "    ('cat_pipeline',cat_pipeline,categorical_cols)\n",
    "\n",
    "])"
   ]
  },
  {
   "cell_type": "code",
   "execution_count": 44,
   "id": "4cd1fd2c",
   "metadata": {},
   "outputs": [],
   "source": [
    "X_train=preprocessor.fit_transform(X_train)\n",
    "X_test=preprocessor.transform(X_test)"
   ]
  },
  {
   "cell_type": "code",
   "execution_count": 45,
   "id": "ca58891a",
   "metadata": {},
   "outputs": [],
   "source": [
    "## Model Training Automation\n",
    "models={\n",
    "    'Random Forest':RandomForestClassifier(),\n",
    "    'XGBClassifier':XGBClassifier(),\n",
    "    'SVC':SVC(),\n",
    "    'IsolationForest' :IsolationForest(),\n",
    "    'MLPClassifier' :MLPClassifier(activation='relu')\n",
    "\n",
    "}\n",
    "\n",
    "def evaluate_model(X_train,y_train,X_test,y_test,models):\n",
    "    \n",
    "    report = {}\n",
    "    for i in range(len(models)):\n",
    "        model = list(models.values())[i]\n",
    "        # Train model\n",
    "        model.fit(X_train,y_train)\n",
    "\n",
    "            \n",
    "\n",
    "        # Predict Testing data\n",
    "        y_test_pred =model.predict(X_test)\n",
    "\n",
    "        # Get accuracy for test data prediction\n",
    "       \n",
    "        test_model_score = accuracy_score(y_test,y_test_pred)\n",
    "\n",
    "        report[list(models.keys())[i]] =  test_model_score\n",
    "            \n",
    "\n",
    "            \n",
    "    return report\n",
    "\n",
    "\n"
   ]
  },
  {
   "cell_type": "code",
   "execution_count": 46,
   "id": "fe1bc55d",
   "metadata": {},
   "outputs": [
    {
     "data": {
      "text/plain": [
       "{'Random Forest': 0.8420714744275626,\n",
       " 'XGBClassifier': 0.8245238604750695,\n",
       " 'SVC': 0.7558313717098224,\n",
       " 'IsolationForest': 0.4559169698266638,\n",
       " 'MLPClassifier': 0.7808688208859406}"
      ]
     },
     "execution_count": 46,
     "metadata": {},
     "output_type": "execute_result"
    }
   ],
   "source": [
    "evaluate_model(X_train,y_train,X_test,y_test,models)"
   ]
  },
  {
   "cell_type": "code",
   "execution_count": 48,
   "id": "9246bf2e",
   "metadata": {},
   "outputs": [
    {
     "name": "stdout",
     "output_type": "stream",
     "text": [
      "Training Random Forest...\n",
      "Fitting 5 folds for each of 27 candidates, totalling 135 fits\n"
     ]
    },
    {
     "name": "stdout",
     "output_type": "stream",
     "text": [
      "[CV 1/5] END max_depth=None, min_samples_split=2, n_estimators=100;, score=0.836 total time=  13.7s\n",
      "[CV 3/5] END max_depth=None, min_samples_split=2, n_estimators=100;, score=0.835 total time=  18.6s\n",
      "[CV 2/5] END max_depth=None, min_samples_split=2, n_estimators=100;, score=0.841 total time=  18.8s\n",
      "[CV 5/5] END max_depth=None, min_samples_split=2, n_estimators=100;, score=0.830 total time=  18.9s\n",
      "[CV 4/5] END max_depth=None, min_samples_split=2, n_estimators=100;, score=0.836 total time=  23.3s\n",
      "[CV 3/5] END max_depth=None, min_samples_split=2, n_estimators=200;, score=0.836 total time=  39.0s\n",
      "[CV 1/5] END max_depth=None, min_samples_split=2, n_estimators=200;, score=0.838 total time=  42.2s\n",
      "[CV 2/5] END max_depth=None, min_samples_split=5, n_estimators=100;, score=0.834 total time=  19.9s\n",
      "[CV 2/5] END max_depth=None, min_samples_split=2, n_estimators=200;, score=0.840 total time=  43.0s\n",
      "[CV 1/5] END max_depth=None, min_samples_split=5, n_estimators=100;, score=0.828 total time=  24.5s\n",
      "[CV 5/5] END max_depth=None, min_samples_split=2, n_estimators=200;, score=0.833 total time=  46.1s\n",
      "[CV 4/5] END max_depth=None, min_samples_split=2, n_estimators=200;, score=0.838 total time=  47.6s\n",
      "[CV 1/5] END max_depth=None, min_samples_split=2, n_estimators=300;, score=0.834 total time=  55.1s\n",
      "[CV 2/5] END max_depth=None, min_samples_split=2, n_estimators=300;, score=0.840 total time=  56.8s\n",
      "[CV 5/5] END max_depth=None, min_samples_split=5, n_estimators=100;, score=0.826 total time=  16.4s\n",
      "[CV 3/5] END max_depth=None, min_samples_split=5, n_estimators=100;, score=0.833 total time=  21.4s\n",
      "[CV 4/5] END max_depth=None, min_samples_split=5, n_estimators=100;, score=0.835 total time=  19.4s\n",
      "[CV 3/5] END max_depth=None, min_samples_split=2, n_estimators=300;, score=0.836 total time=  59.8s\n",
      "[CV 5/5] END max_depth=None, min_samples_split=2, n_estimators=300;, score=0.833 total time=  57.1s\n",
      "[CV 4/5] END max_depth=None, min_samples_split=2, n_estimators=300;, score=0.841 total time= 1.0min\n",
      "[CV 2/5] END max_depth=None, min_samples_split=5, n_estimators=200;, score=0.836 total time=  36.1s\n",
      "[CV 3/5] END max_depth=None, min_samples_split=5, n_estimators=200;, score=0.834 total time=  37.9s\n",
      "[CV 4/5] END max_depth=None, min_samples_split=5, n_estimators=200;, score=0.834 total time=  39.0s\n",
      "[CV 1/5] END max_depth=None, min_samples_split=5, n_estimators=200;, score=0.834 total time=  47.3s\n",
      "[CV 1/5] END max_depth=None, min_samples_split=10, n_estimators=100;, score=0.826 total time=  18.9s\n",
      "[CV 5/5] END max_depth=None, min_samples_split=5, n_estimators=200;, score=0.829 total time=  40.8s\n",
      "[CV 2/5] END max_depth=None, min_samples_split=10, n_estimators=100;, score=0.824 total time=  18.4s\n",
      "[CV 3/5] END max_depth=None, min_samples_split=10, n_estimators=100;, score=0.828 total time=  18.8s\n",
      "[CV 4/5] END max_depth=None, min_samples_split=10, n_estimators=100;, score=0.826 total time=  15.1s\n",
      "[CV 5/5] END max_depth=None, min_samples_split=10, n_estimators=100;, score=0.820 total time=  16.0s\n",
      "[CV 2/5] END max_depth=None, min_samples_split=5, n_estimators=300;, score=0.839 total time=  55.5s\n",
      "[CV 1/5] END max_depth=None, min_samples_split=5, n_estimators=300;, score=0.833 total time= 1.1min\n",
      "[CV 4/5] END max_depth=None, min_samples_split=5, n_estimators=300;, score=0.835 total time=  59.3s\n",
      "[CV 5/5] END max_depth=None, min_samples_split=5, n_estimators=300;, score=0.830 total time=  47.6s\n",
      "[CV 3/5] END max_depth=None, min_samples_split=5, n_estimators=300;, score=0.833 total time= 1.0min\n",
      "[CV 1/5] END max_depth=5, min_samples_split=2, n_estimators=100;, score=0.753 total time=   6.8s\n",
      "[CV 2/5] END max_depth=5, min_samples_split=2, n_estimators=100;, score=0.753 total time=   8.8s\n",
      "[CV 1/5] END max_depth=None, min_samples_split=10, n_estimators=200;, score=0.825 total time=  40.7s\n",
      "[CV 3/5] END max_depth=5, min_samples_split=2, n_estimators=100;, score=0.749 total time=   5.3s\n",
      "[CV 3/5] END max_depth=None, min_samples_split=10, n_estimators=200;, score=0.829 total time=  37.8s\n",
      "[CV 2/5] END max_depth=None, min_samples_split=10, n_estimators=200;, score=0.830 total time=  41.1s\n",
      "[CV 4/5] END max_depth=5, min_samples_split=2, n_estimators=100;, score=0.753 total time=   6.7s\n",
      "[CV 4/5] END max_depth=None, min_samples_split=10, n_estimators=200;, score=0.828 total time=  39.0s\n",
      "[CV 5/5] END max_depth=5, min_samples_split=2, n_estimators=100;, score=0.749 total time=   6.8s\n",
      "[CV 5/5] END max_depth=None, min_samples_split=10, n_estimators=200;, score=0.818 total time=  42.4s\n",
      "[CV 5/5] END max_depth=5, min_samples_split=2, n_estimators=200;, score=0.747 total time=  10.3s\n",
      "[CV 2/5] END max_depth=5, min_samples_split=2, n_estimators=200;, score=0.753 total time=  14.4s\n",
      "[CV 1/5] END max_depth=5, min_samples_split=2, n_estimators=200;, score=0.751 total time=  15.6s\n",
      "[CV 1/5] END max_depth=None, min_samples_split=10, n_estimators=300;, score=0.825 total time=  50.3s\n",
      "[CV 3/5] END max_depth=5, min_samples_split=2, n_estimators=200;, score=0.748 total time=  16.8s\n",
      "[CV 4/5] END max_depth=5, min_samples_split=2, n_estimators=200;, score=0.748 total time=  16.3s\n",
      "[CV 2/5] END max_depth=None, min_samples_split=10, n_estimators=300;, score=0.830 total time=  51.2s\n",
      "[CV 4/5] END max_depth=5, min_samples_split=5, n_estimators=100;, score=0.746 total time=   5.6s\n",
      "[CV 1/5] END max_depth=5, min_samples_split=5, n_estimators=100;, score=0.751 total time=   9.5s\n",
      "[CV 3/5] END max_depth=5, min_samples_split=5, n_estimators=100;, score=0.748 total time=   7.4s\n",
      "[CV 1/5] END max_depth=5, min_samples_split=2, n_estimators=300;, score=0.748 total time=  23.2s\n",
      "[CV 2/5] END max_depth=5, min_samples_split=5, n_estimators=100;, score=0.756 total time=  12.0s\n",
      "[CV 5/5] END max_depth=5, min_samples_split=5, n_estimators=100;, score=0.750 total time=   7.1s\n",
      "[CV 2/5] END max_depth=5, min_samples_split=2, n_estimators=300;, score=0.755 total time=  25.4s\n",
      "[CV 3/5] END max_depth=5, min_samples_split=5, n_estimators=200;, score=0.747 total time=   9.7s\n",
      "[CV 4/5] END max_depth=5, min_samples_split=2, n_estimators=300;, score=0.745 total time=  23.1s\n",
      "[CV 3/5] END max_depth=5, min_samples_split=2, n_estimators=300;, score=0.749 total time=  24.2s\n",
      "[CV 3/5] END max_depth=None, min_samples_split=10, n_estimators=300;, score=0.827 total time= 1.0min\n",
      "[CV 5/5] END max_depth=5, min_samples_split=2, n_estimators=300;, score=0.747 total time=  29.5s\n",
      "[CV 2/5] END max_depth=5, min_samples_split=5, n_estimators=200;, score=0.755 total time=  17.7s\n",
      "[CV 4/5] END max_depth=5, min_samples_split=5, n_estimators=200;, score=0.748 total time=  16.0s\n",
      "[CV 4/5] END max_depth=None, min_samples_split=10, n_estimators=300;, score=0.827 total time= 1.0min\n",
      "[CV 2/5] END max_depth=5, min_samples_split=10, n_estimators=100;, score=0.756 total time=   5.4s\n",
      "[CV 5/5] END max_depth=None, min_samples_split=10, n_estimators=300;, score=0.820 total time= 1.1min\n",
      "[CV 1/5] END max_depth=5, min_samples_split=5, n_estimators=200;, score=0.749 total time=  27.1s\n",
      "[CV 1/5] END max_depth=5, min_samples_split=10, n_estimators=100;, score=0.753 total time=   8.9s\n",
      "[CV 3/5] END max_depth=5, min_samples_split=10, n_estimators=100;, score=0.749 total time=   7.1s\n",
      "[CV 4/5] END max_depth=5, min_samples_split=10, n_estimators=100;, score=0.751 total time=   7.5s\n",
      "[CV 2/5] END max_depth=5, min_samples_split=5, n_estimators=300;, score=0.755 total time=  18.2s\n",
      "[CV 5/5] END max_depth=5, min_samples_split=10, n_estimators=100;, score=0.747 total time=   6.7s\n",
      "[CV 1/5] END max_depth=5, min_samples_split=5, n_estimators=300;, score=0.752 total time=  24.0s\n",
      "[CV 5/5] END max_depth=5, min_samples_split=5, n_estimators=200;, score=0.749 total time=  25.3s\n",
      "[CV 3/5] END max_depth=5, min_samples_split=5, n_estimators=300;, score=0.747 total time=  25.9s\n",
      "[CV 4/5] END max_depth=5, min_samples_split=5, n_estimators=300;, score=0.748 total time=  27.0s\n",
      "[CV 1/5] END max_depth=5, min_samples_split=10, n_estimators=200;, score=0.750 total time=  15.2s\n",
      "[CV 5/5] END max_depth=5, min_samples_split=5, n_estimators=300;, score=0.747 total time=  23.4s\n",
      "[CV 3/5] END max_depth=5, min_samples_split=10, n_estimators=200;, score=0.747 total time=  12.9s\n",
      "[CV 4/5] END max_depth=5, min_samples_split=10, n_estimators=200;, score=0.747 total time=  13.6s\n",
      "[CV 2/5] END max_depth=5, min_samples_split=10, n_estimators=200;, score=0.755 total time=  16.9s\n",
      "[CV 5/5] END max_depth=5, min_samples_split=10, n_estimators=200;, score=0.747 total time=  15.7s\n",
      "[CV 1/5] END max_depth=10, min_samples_split=2, n_estimators=100;, score=0.786 total time=  11.8s\n",
      "[CV 2/5] END max_depth=5, min_samples_split=10, n_estimators=300;, score=0.755 total time=  21.5s\n",
      "[CV 3/5] END max_depth=10, min_samples_split=2, n_estimators=100;, score=0.785 total time=  12.6s\n",
      "[CV 2/5] END max_depth=10, min_samples_split=2, n_estimators=100;, score=0.788 total time=  12.9s\n",
      "[CV 4/5] END max_depth=5, min_samples_split=10, n_estimators=300;, score=0.747 total time=  22.5s\n",
      "[CV 1/5] END max_depth=5, min_samples_split=10, n_estimators=300;, score=0.752 total time=  25.4s\n",
      "[CV 3/5] END max_depth=5, min_samples_split=10, n_estimators=300;, score=0.747 total time=  27.5s\n",
      "[CV 4/5] END max_depth=10, min_samples_split=2, n_estimators=100;, score=0.790 total time=  22.3s\n",
      "[CV 5/5] END max_depth=10, min_samples_split=2, n_estimators=100;, score=0.779 total time=  23.3s\n",
      "[CV 5/5] END max_depth=5, min_samples_split=10, n_estimators=300;, score=0.748 total time=  28.3s\n",
      "[CV 2/5] END max_depth=10, min_samples_split=2, n_estimators=200;, score=0.788 total time=  29.6s\n",
      "[CV 2/5] END max_depth=10, min_samples_split=5, n_estimators=100;, score=0.789 total time=  10.3s\n",
      "[CV 1/5] END max_depth=10, min_samples_split=2, n_estimators=200;, score=0.783 total time=  32.0s\n",
      "[CV 3/5] END max_depth=10, min_samples_split=2, n_estimators=200;, score=0.785 total time=  26.2s\n",
      "[CV 1/5] END max_depth=10, min_samples_split=5, n_estimators=100;, score=0.785 total time=  15.1s\n",
      "[CV 4/5] END max_depth=10, min_samples_split=2, n_estimators=200;, score=0.790 total time=  28.9s\n",
      "[CV 1/5] END max_depth=10, min_samples_split=2, n_estimators=300;, score=0.785 total time=  30.7s\n",
      "[CV 5/5] END max_depth=10, min_samples_split=2, n_estimators=200;, score=0.781 total time=  31.4s\n",
      "[CV 3/5] END max_depth=10, min_samples_split=5, n_estimators=100;, score=0.787 total time=  10.3s\n",
      "[CV 4/5] END max_depth=10, min_samples_split=5, n_estimators=100;, score=0.786 total time=   9.3s\n",
      "[CV 3/5] END max_depth=10, min_samples_split=2, n_estimators=300;, score=0.786 total time=  33.4s\n",
      "[CV 5/5] END max_depth=10, min_samples_split=5, n_estimators=100;, score=0.781 total time=  13.6s\n",
      "[CV 2/5] END max_depth=10, min_samples_split=2, n_estimators=300;, score=0.787 total time=  38.3s\n",
      "[CV 4/5] END max_depth=10, min_samples_split=2, n_estimators=300;, score=0.787 total time=  36.4s\n",
      "[CV 5/5] END max_depth=10, min_samples_split=5, n_estimators=200;, score=0.780 total time=  17.8s\n",
      "[CV 5/5] END max_depth=10, min_samples_split=2, n_estimators=300;, score=0.781 total time=  42.5s\n",
      "[CV 2/5] END max_depth=10, min_samples_split=5, n_estimators=200;, score=0.788 total time=  26.0s\n",
      "[CV 4/5] END max_depth=10, min_samples_split=5, n_estimators=200;, score=0.788 total time=  24.4s\n",
      "[CV 1/5] END max_depth=10, min_samples_split=5, n_estimators=200;, score=0.785 total time=  31.8s\n",
      "[CV 3/5] END max_depth=10, min_samples_split=5, n_estimators=200;, score=0.785 total time=  29.2s\n",
      "[CV 1/5] END max_depth=10, min_samples_split=10, n_estimators=100;, score=0.783 total time=  16.7s\n",
      "[CV 2/5] END max_depth=10, min_samples_split=10, n_estimators=100;, score=0.785 total time=  10.5s\n",
      "[CV 3/5] END max_depth=10, min_samples_split=10, n_estimators=100;, score=0.785 total time=  12.2s\n",
      "[CV 4/5] END max_depth=10, min_samples_split=10, n_estimators=100;, score=0.785 total time=  11.3s\n",
      "[CV 3/5] END max_depth=10, min_samples_split=5, n_estimators=300;, score=0.784 total time=  30.6s\n",
      "[CV 5/5] END max_depth=10, min_samples_split=10, n_estimators=100;, score=0.780 total time=  13.0s\n",
      "[CV 1/5] END max_depth=10, min_samples_split=5, n_estimators=300;, score=0.782 total time=  44.5s\n",
      "[CV 4/5] END max_depth=10, min_samples_split=5, n_estimators=300;, score=0.787 total time=  40.1s\n",
      "[CV 2/5] END max_depth=10, min_samples_split=5, n_estimators=300;, score=0.787 total time=  45.5s\n",
      "[CV 5/5] END max_depth=10, min_samples_split=5, n_estimators=300;, score=0.779 total time=  43.5s\n",
      "[CV 3/5] END max_depth=10, min_samples_split=10, n_estimators=200;, score=0.785 total time=  26.1s\n",
      "[CV 1/5] END max_depth=10, min_samples_split=10, n_estimators=200;, score=0.784 total time=  29.9s\n",
      "[CV 5/5] END max_depth=10, min_samples_split=10, n_estimators=200;, score=0.781 total time=  21.4s\n",
      "[CV 2/5] END max_depth=10, min_samples_split=10, n_estimators=200;, score=0.786 total time=  28.8s\n",
      "[CV 4/5] END max_depth=10, min_samples_split=10, n_estimators=200;, score=0.786 total time=  28.6s\n",
      "[CV 1/5] END max_depth=10, min_samples_split=10, n_estimators=300;, score=0.781 total time=  27.9s\n",
      "[CV 3/5] END max_depth=10, min_samples_split=10, n_estimators=300;, score=0.783 total time=  25.3s\n",
      "[CV 2/5] END max_depth=10, min_samples_split=10, n_estimators=300;, score=0.785 total time=  28.5s\n",
      "[CV 5/5] END max_depth=10, min_samples_split=10, n_estimators=300;, score=0.780 total time=  21.5s\n",
      "[CV 4/5] END max_depth=10, min_samples_split=10, n_estimators=300;, score=0.788 total time=  23.9s\n",
      "Best Random Forest Hyperparameters:\n",
      "{'max_depth': None, 'min_samples_split': 2, 'n_estimators': 200}\n",
      "\n",
      "\n",
      "Training XGBClassifier...\n",
      "Fitting 5 folds for each of 27 candidates, totalling 135 fits\n",
      "[CV 3/5] END learning_rate=0.1, max_depth=3, n_estimators=100;, score=0.778 total time=   8.3s\n",
      "[CV 4/5] END learning_rate=0.1, max_depth=3, n_estimators=100;, score=0.785 total time=   8.8s\n",
      "[CV 5/5] END learning_rate=0.1, max_depth=3, n_estimators=100;, score=0.778 total time=   9.9s\n",
      "[CV 2/5] END learning_rate=0.1, max_depth=3, n_estimators=100;, score=0.779 total time=  12.8s\n",
      "[CV 2/5] END learning_rate=0.1, max_depth=3, n_estimators=300;, score=0.801 total time=  16.8s\n",
      "[CV 3/5] END learning_rate=0.1, max_depth=3, n_estimators=200;, score=0.798 total time=  20.5s\n",
      "[CV 1/5] END learning_rate=0.1, max_depth=3, n_estimators=200;, score=0.790 total time=  20.8s\n",
      "[CV 4/5] END learning_rate=0.1, max_depth=3, n_estimators=200;, score=0.793 total time=  21.0s\n",
      "[CV 5/5] END learning_rate=0.1, max_depth=3, n_estimators=200;, score=0.790 total time=  21.5s\n",
      "[CV 1/5] END learning_rate=0.1, max_depth=3, n_estimators=100;, score=0.779 total time=  22.9s\n",
      "[CV 1/5] END learning_rate=0.1, max_depth=3, n_estimators=300;, score=0.796 total time=  28.4s\n",
      "[CV 2/5] END learning_rate=0.1, max_depth=5, n_estimators=100;, score=0.802 total time=  12.3s\n",
      "[CV 2/5] END learning_rate=0.1, max_depth=3, n_estimators=200;, score=0.794 total time=  30.3s\n",
      "[CV 3/5] END learning_rate=0.1, max_depth=3, n_estimators=300;, score=0.804 total time=  28.1s\n",
      "[CV 1/5] END learning_rate=0.1, max_depth=5, n_estimators=100;, score=0.799 total time=  25.1s\n",
      "[CV 3/5] END learning_rate=0.1, max_depth=5, n_estimators=100;, score=0.804 total time=  18.2s\n",
      "[CV 4/5] END learning_rate=0.1, max_depth=3, n_estimators=300;, score=0.799 total time=  30.0s\n",
      "[CV 5/5] END learning_rate=0.1, max_depth=3, n_estimators=300;, score=0.798 total time=  29.2s\n",
      "[CV 5/5] END learning_rate=0.1, max_depth=5, n_estimators=100;, score=0.791 total time=  23.5s\n",
      "[CV 2/5] END learning_rate=0.1, max_depth=5, n_estimators=200;, score=0.813 total time=  21.9s\n",
      "[CV 1/5] END learning_rate=0.1, max_depth=5, n_estimators=200;, score=0.810 total time=  23.6s\n",
      "[CV 4/5] END learning_rate=0.1, max_depth=5, n_estimators=100;, score=0.797 total time=  27.7s\n",
      "[CV 2/5] END learning_rate=0.1, max_depth=7, n_estimators=100;, score=0.816 total time=  15.0s\n",
      "[CV 5/5] END learning_rate=0.1, max_depth=5, n_estimators=200;, score=0.807 total time=  32.6s\n",
      "[CV 4/5] END learning_rate=0.1, max_depth=5, n_estimators=200;, score=0.809 total time=  36.1s\n",
      "[CV 3/5] END learning_rate=0.1, max_depth=5, n_estimators=200;, score=0.815 total time=  36.9s\n",
      "[CV 3/5] END learning_rate=0.1, max_depth=7, n_estimators=100;, score=0.816 total time=  27.0s\n",
      "[CV 1/5] END learning_rate=0.1, max_depth=7, n_estimators=100;, score=0.814 total time=  27.9s\n",
      "[CV 4/5] END learning_rate=0.1, max_depth=7, n_estimators=100;, score=0.814 total time=  25.2s\n",
      "[CV 5/5] END learning_rate=0.1, max_depth=7, n_estimators=100;, score=0.807 total time=  15.0s\n",
      "[CV 4/5] END learning_rate=0.1, max_depth=5, n_estimators=300;, score=0.814 total time=  43.3s\n",
      "[CV 1/5] END learning_rate=0.1, max_depth=5, n_estimators=300;, score=0.815 total time=  50.6s\n",
      "[CV 2/5] END learning_rate=0.1, max_depth=5, n_estimators=300;, score=0.819 total time=  58.1s\n",
      "[CV 3/5] END learning_rate=0.1, max_depth=5, n_estimators=300;, score=0.818 total time=  58.0s\n",
      "[CV 5/5] END learning_rate=0.1, max_depth=5, n_estimators=300;, score=0.816 total time=  58.2s\n",
      "[CV 1/5] END learning_rate=0.01, max_depth=3, n_estimators=100;, score=0.734 total time=   9.7s\n",
      "[CV 2/5] END learning_rate=0.01, max_depth=3, n_estimators=100;, score=0.738 total time=  10.8s\n",
      "[CV 1/5] END learning_rate=0.1, max_depth=7, n_estimators=200;, score=0.829 total time=  49.1s\n",
      "[CV 2/5] END learning_rate=0.1, max_depth=7, n_estimators=200;, score=0.827 total time=  49.1s\n",
      "[CV 4/5] END learning_rate=0.01, max_depth=3, n_estimators=100;, score=0.731 total time=   8.3s\n",
      "[CV 3/5] END learning_rate=0.01, max_depth=3, n_estimators=100;, score=0.734 total time=  11.6s\n",
      "[CV 3/5] END learning_rate=0.1, max_depth=7, n_estimators=200;, score=0.826 total time=  54.7s\n",
      "[CV 5/5] END learning_rate=0.01, max_depth=3, n_estimators=100;, score=0.735 total time=   8.6s\n",
      "[CV 2/5] END learning_rate=0.1, max_depth=7, n_estimators=300;, score=0.833 total time=  47.7s\n",
      "[CV 5/5] END learning_rate=0.1, max_depth=7, n_estimators=200;, score=0.820 total time=  52.4s\n",
      "[CV 4/5] END learning_rate=0.1, max_depth=7, n_estimators=200;, score=0.823 total time=  53.1s\n",
      "[CV 2/5] END learning_rate=0.01, max_depth=3, n_estimators=200;, score=0.752 total time=  13.0s\n",
      "[CV 1/5] END learning_rate=0.01, max_depth=3, n_estimators=200;, score=0.746 total time=  18.8s\n",
      "[CV 1/5] END learning_rate=0.1, max_depth=7, n_estimators=300;, score=0.831 total time= 1.0min\n",
      "[CV 5/5] END learning_rate=0.01, max_depth=3, n_estimators=200;, score=0.749 total time=  14.7s\n",
      "[CV 3/5] END learning_rate=0.01, max_depth=3, n_estimators=200;, score=0.749 total time=  19.8s\n",
      "[CV 4/5] END learning_rate=0.01, max_depth=3, n_estimators=200;, score=0.752 total time=  19.4s\n",
      "[CV 3/5] END learning_rate=0.01, max_depth=3, n_estimators=300;, score=0.759 total time=  23.7s\n",
      "[CV 3/5] END learning_rate=0.1, max_depth=7, n_estimators=300;, score=0.831 total time= 1.1min\n",
      "[CV 1/5] END learning_rate=0.01, max_depth=5, n_estimators=100;, score=0.751 total time=  15.2s\n",
      "[CV 2/5] END learning_rate=0.01, max_depth=5, n_estimators=100;, score=0.754 total time=  15.0s\n",
      "[CV 1/5] END learning_rate=0.01, max_depth=3, n_estimators=300;, score=0.758 total time=  30.1s\n",
      "[CV 4/5] END learning_rate=0.1, max_depth=7, n_estimators=300;, score=0.832 total time= 1.1min\n",
      "[CV 4/5] END learning_rate=0.01, max_depth=5, n_estimators=100;, score=0.753 total time=  15.5s\n",
      "[CV 3/5] END learning_rate=0.01, max_depth=5, n_estimators=100;, score=0.753 total time=  17.2s\n",
      "[CV 2/5] END learning_rate=0.01, max_depth=3, n_estimators=300;, score=0.761 total time=  31.8s\n",
      "[CV 5/5] END learning_rate=0.1, max_depth=7, n_estimators=300;, score=0.823 total time= 1.0min\n",
      "[CV 4/5] END learning_rate=0.01, max_depth=3, n_estimators=300;, score=0.759 total time=  29.1s\n",
      "[CV 5/5] END learning_rate=0.01, max_depth=3, n_estimators=300;, score=0.758 total time=  28.3s\n",
      "[CV 5/5] END learning_rate=0.01, max_depth=5, n_estimators=100;, score=0.751 total time=  13.0s\n",
      "[CV 3/5] END learning_rate=0.01, max_depth=5, n_estimators=200;, score=0.771 total time=  21.4s\n",
      "[CV 2/5] END learning_rate=0.01, max_depth=5, n_estimators=200;, score=0.769 total time=  25.6s\n",
      "[CV 1/5] END learning_rate=0.01, max_depth=5, n_estimators=200;, score=0.765 total time=  29.2s\n",
      "[CV 1/5] END learning_rate=0.01, max_depth=7, n_estimators=100;, score=0.768 total time=  20.3s\n",
      "[CV 5/5] END learning_rate=0.01, max_depth=5, n_estimators=200;, score=0.764 total time=  30.2s\n",
      "[CV 2/5] END learning_rate=0.01, max_depth=7, n_estimators=100;, score=0.768 total time=  21.3s\n",
      "[CV 4/5] END learning_rate=0.01, max_depth=5, n_estimators=200;, score=0.768 total time=  33.1s\n",
      "[CV 1/5] END learning_rate=0.01, max_depth=5, n_estimators=300;, score=0.772 total time=  41.5s\n",
      "[CV 4/5] END learning_rate=0.01, max_depth=7, n_estimators=100;, score=0.771 total time=  23.4s\n",
      "[CV 4/5] END learning_rate=0.01, max_depth=5, n_estimators=300;, score=0.777 total time=  46.3s\n",
      "[CV 3/5] END learning_rate=0.01, max_depth=7, n_estimators=100;, score=0.769 total time=  33.9s\n",
      "[CV 5/5] END learning_rate=0.01, max_depth=5, n_estimators=300;, score=0.773 total time=  48.1s\n",
      "[CV 5/5] END learning_rate=0.01, max_depth=7, n_estimators=100;, score=0.768 total time=  28.6s\n",
      "[CV 3/5] END learning_rate=0.01, max_depth=5, n_estimators=300;, score=0.776 total time=  50.6s\n",
      "[CV 2/5] END learning_rate=0.01, max_depth=5, n_estimators=300;, score=0.776 total time=  58.4s\n",
      "[CV 3/5] END learning_rate=0.01, max_depth=7, n_estimators=200;, score=0.782 total time=  32.0s\n",
      "[CV 1/5] END learning_rate=0.001, max_depth=3, n_estimators=100;, score=0.708 total time=   8.5s\n",
      "[CV 3/5] END learning_rate=0.001, max_depth=3, n_estimators=100;, score=0.710 total time=   6.0s\n",
      "[CV 2/5] END learning_rate=0.001, max_depth=3, n_estimators=100;, score=0.713 total time=   7.8s\n",
      "[CV 4/5] END learning_rate=0.001, max_depth=3, n_estimators=100;, score=0.715 total time=   8.3s\n",
      "[CV 2/5] END learning_rate=0.01, max_depth=7, n_estimators=200;, score=0.782 total time=  43.3s\n",
      "[CV 5/5] END learning_rate=0.001, max_depth=3, n_estimators=100;, score=0.710 total time=   6.0s\n",
      "[CV 1/5] END learning_rate=0.01, max_depth=7, n_estimators=200;, score=0.780 total time=  45.9s\n",
      "[CV 4/5] END learning_rate=0.01, max_depth=7, n_estimators=200;, score=0.780 total time=  44.9s\n",
      "[CV 1/5] END learning_rate=0.001, max_depth=3, n_estimators=200;, score=0.714 total time=  14.4s\n",
      "[CV 4/5] END learning_rate=0.001, max_depth=3, n_estimators=200;, score=0.713 total time=  11.9s\n",
      "[CV 2/5] END learning_rate=0.001, max_depth=3, n_estimators=200;, score=0.713 total time=  18.2s\n",
      "[CV 5/5] END learning_rate=0.01, max_depth=7, n_estimators=200;, score=0.778 total time=  46.4s\n",
      "[CV 3/5] END learning_rate=0.001, max_depth=3, n_estimators=200;, score=0.712 total time=  24.6s\n",
      "[CV 5/5] END learning_rate=0.001, max_depth=3, n_estimators=200;, score=0.717 total time=  24.2s\n",
      "[CV 3/5] END learning_rate=0.001, max_depth=3, n_estimators=300;, score=0.718 total time=  18.1s\n",
      "[CV 1/5] END learning_rate=0.001, max_depth=3, n_estimators=300;, score=0.719 total time=  27.5s\n",
      "[CV 2/5] END learning_rate=0.001, max_depth=3, n_estimators=300;, score=0.719 total time=  30.2s\n",
      "[CV 1/5] END learning_rate=0.001, max_depth=5, n_estimators=100;, score=0.731 total time=  16.1s\n",
      "[CV 2/5] END learning_rate=0.001, max_depth=5, n_estimators=100;, score=0.735 total time=  17.6s\n",
      "[CV 5/5] END learning_rate=0.001, max_depth=3, n_estimators=300;, score=0.720 total time=  32.8s\n",
      "[CV 4/5] END learning_rate=0.001, max_depth=3, n_estimators=300;, score=0.718 total time=  35.2s\n",
      "[CV 4/5] END learning_rate=0.001, max_depth=5, n_estimators=100;, score=0.733 total time=  19.9s\n",
      "[CV 1/5] END learning_rate=0.01, max_depth=7, n_estimators=300;, score=0.785 total time= 1.3min\n",
      "[CV 2/5] END learning_rate=0.01, max_depth=7, n_estimators=300;, score=0.791 total time= 1.3min\n",
      "[CV 3/5] END learning_rate=0.001, max_depth=5, n_estimators=100;, score=0.738 total time=  24.9s\n",
      "[CV 4/5] END learning_rate=0.01, max_depth=7, n_estimators=300;, score=0.789 total time= 1.3min\n",
      "[CV 5/5] END learning_rate=0.001, max_depth=5, n_estimators=100;, score=0.738 total time=  19.7s\n",
      "[CV 5/5] END learning_rate=0.01, max_depth=7, n_estimators=300;, score=0.785 total time= 1.3min\n",
      "[CV 3/5] END learning_rate=0.01, max_depth=7, n_estimators=300;, score=0.791 total time= 1.4min\n",
      "[CV 2/5] END learning_rate=0.001, max_depth=5, n_estimators=200;, score=0.734 total time=  36.3s\n",
      "[CV 3/5] END learning_rate=0.001, max_depth=5, n_estimators=200;, score=0.738 total time=  32.6s\n",
      "[CV 1/5] END learning_rate=0.001, max_depth=5, n_estimators=200;, score=0.738 total time=  41.8s\n",
      "[CV 4/5] END learning_rate=0.001, max_depth=5, n_estimators=200;, score=0.738 total time=  35.6s\n",
      "[CV 5/5] END learning_rate=0.001, max_depth=5, n_estimators=200;, score=0.741 total time=  38.0s\n",
      "[CV 1/5] END learning_rate=0.001, max_depth=7, n_estimators=100;, score=0.747 total time=  31.8s\n",
      "[CV 2/5] END learning_rate=0.001, max_depth=7, n_estimators=100;, score=0.752 total time=  28.1s\n",
      "[CV 3/5] END learning_rate=0.001, max_depth=5, n_estimators=300;, score=0.741 total time=  39.7s\n",
      "[CV 4/5] END learning_rate=0.001, max_depth=7, n_estimators=100;, score=0.746 total time=  26.9s\n",
      "[CV 5/5] END learning_rate=0.001, max_depth=7, n_estimators=100;, score=0.753 total time=  32.3s\n",
      "[CV 1/5] END learning_rate=0.001, max_depth=5, n_estimators=300;, score=0.741 total time= 1.0min\n",
      "[CV 3/5] END learning_rate=0.001, max_depth=7, n_estimators=100;, score=0.750 total time=  36.3s\n",
      "[CV 2/5] END learning_rate=0.001, max_depth=5, n_estimators=300;, score=0.738 total time= 1.1min\n",
      "[CV 4/5] END learning_rate=0.001, max_depth=5, n_estimators=300;, score=0.740 total time= 1.1min\n",
      "[CV 5/5] END learning_rate=0.001, max_depth=5, n_estimators=300;, score=0.742 total time= 1.1min\n",
      "[CV 1/5] END learning_rate=0.001, max_depth=7, n_estimators=200;, score=0.752 total time=  52.6s\n",
      "[CV 2/5] END learning_rate=0.001, max_depth=7, n_estimators=200;, score=0.754 total time=  51.5s\n",
      "[CV 5/5] END learning_rate=0.001, max_depth=7, n_estimators=200;, score=0.758 total time=  46.5s\n",
      "[CV 4/5] END learning_rate=0.001, max_depth=7, n_estimators=200;, score=0.754 total time=  55.6s\n",
      "[CV 1/5] END learning_rate=0.001, max_depth=7, n_estimators=300;, score=0.755 total time=  51.6s\n",
      "[CV 3/5] END learning_rate=0.001, max_depth=7, n_estimators=200;, score=0.758 total time= 1.2min\n",
      "[CV 2/5] END learning_rate=0.001, max_depth=7, n_estimators=300;, score=0.757 total time=  51.6s\n",
      "[CV 3/5] END learning_rate=0.001, max_depth=7, n_estimators=300;, score=0.762 total time=  56.5s\n",
      "[CV 5/5] END learning_rate=0.001, max_depth=7, n_estimators=300;, score=0.763 total time=  55.7s\n",
      "[CV 4/5] END learning_rate=0.001, max_depth=7, n_estimators=300;, score=0.758 total time= 1.1min\n",
      "Best XGBClassifier Hyperparameters:\n",
      "{'learning_rate': 0.1, 'max_depth': 7, 'n_estimators': 300}\n",
      "\n",
      "\n",
      "Training SVC...\n",
      "Fitting 5 folds for each of 12 candidates, totalling 60 fits\n",
      "[CV 5/5] END ......C=1, gamma=scale, kernel=rbf;, score=0.762 total time= 2.6min\n",
      "[CV 2/5] END ......C=1, gamma=scale, kernel=rbf;, score=0.760 total time= 2.7min\n",
      "[CV 1/5] END ......C=1, gamma=scale, kernel=rbf;, score=0.761 total time= 2.9min\n",
      "[CV 4/5] END ......C=1, gamma=scale, kernel=rbf;, score=0.762 total time= 2.9min\n",
      "[CV 3/5] END ......C=1, gamma=scale, kernel=rbf;, score=0.763 total time= 3.1min\n",
      "[CV 3/5] END ...C=1, gamma=scale, kernel=linear;, score=0.723 total time= 3.8min\n",
      "[CV 2/5] END ...C=1, gamma=scale, kernel=linear;, score=0.725 total time= 4.4min\n",
      "[CV 5/5] END ...C=1, gamma=scale, kernel=linear;, score=0.728 total time= 4.4min\n",
      "[CV 1/5] END ...C=1, gamma=scale, kernel=linear;, score=0.720 total time= 4.4min\n",
      "[CV 2/5] END ....C=1, gamma=auto, kernel=linear;, score=0.725 total time= 4.5min\n",
      "[CV 4/5] END ...C=1, gamma=scale, kernel=linear;, score=0.725 total time= 4.5min\n",
      "[CV 1/5] END ....C=1, gamma=auto, kernel=linear;, score=0.720 total time= 4.6min\n",
      "[CV 2/5] END .......C=1, gamma=auto, kernel=rbf;, score=0.762 total time= 2.4min\n",
      "[CV 1/5] END .......C=1, gamma=auto, kernel=rbf;, score=0.765 total time= 2.7min\n",
      "[CV 3/5] END ....C=1, gamma=auto, kernel=linear;, score=0.723 total time= 3.8min\n",
      "[CV 3/5] END .......C=1, gamma=auto, kernel=rbf;, score=0.767 total time= 2.7min\n",
      "[CV 5/5] END ....C=1, gamma=auto, kernel=linear;, score=0.728 total time= 3.7min\n",
      "[CV 5/5] END .......C=1, gamma=auto, kernel=rbf;, score=0.765 total time= 2.3min\n",
      "[CV 4/5] END ....C=1, gamma=auto, kernel=linear;, score=0.725 total time= 4.4min\n",
      "[CV 4/5] END .......C=1, gamma=auto, kernel=rbf;, score=0.763 total time= 2.8min\n",
      "[CV 1/5] END .....C=10, gamma=scale, kernel=rbf;, score=0.771 total time= 3.7min\n",
      "[CV 4/5] END .....C=10, gamma=scale, kernel=rbf;, score=0.768 total time= 3.1min\n",
      "[CV 2/5] END .....C=10, gamma=scale, kernel=rbf;, score=0.773 total time= 3.5min\n",
      "[CV 3/5] END .....C=10, gamma=scale, kernel=rbf;, score=0.773 total time= 3.5min\n",
      "[CV 5/5] END .....C=10, gamma=scale, kernel=rbf;, score=0.775 total time= 3.9min\n",
      "[CV 1/5] END ......C=10, gamma=auto, kernel=rbf;, score=0.774 total time= 4.0min\n",
      "[CV 2/5] END ......C=10, gamma=auto, kernel=rbf;, score=0.776 total time= 3.9min\n",
      "[CV 3/5] END ......C=10, gamma=auto, kernel=rbf;, score=0.778 total time= 2.9min\n",
      "[CV 4/5] END ......C=10, gamma=auto, kernel=rbf;, score=0.772 total time= 2.7min\n",
      "[CV 5/5] END ......C=10, gamma=auto, kernel=rbf;, score=0.777 total time= 2.4min\n",
      "[CV 2/5] END ..C=10, gamma=scale, kernel=linear;, score=0.725 total time=16.5min\n",
      "[CV 1/5] END ..C=10, gamma=scale, kernel=linear;, score=0.720 total time=17.8min\n",
      "[CV 3/5] END ..C=10, gamma=scale, kernel=linear;, score=0.723 total time=18.1min\n",
      "[CV 4/5] END ..C=10, gamma=scale, kernel=linear;, score=0.725 total time=18.5min\n",
      "[CV 5/5] END ..C=10, gamma=scale, kernel=linear;, score=0.728 total time=18.0min\n",
      "[CV 2/5] END ...C=10, gamma=auto, kernel=linear;, score=0.725 total time=16.8min\n",
      "[CV 1/5] END ...C=10, gamma=auto, kernel=linear;, score=0.720 total time=17.0min\n",
      "[CV 4/5] END ...C=10, gamma=auto, kernel=linear;, score=0.725 total time=15.6min\n",
      "[CV 5/5] END ...C=10, gamma=auto, kernel=linear;, score=0.728 total time=15.9min\n",
      "[CV 3/5] END ...C=10, gamma=auto, kernel=linear;, score=0.723 total time=16.9min\n",
      "[CV 1/5] END ....C=100, gamma=scale, kernel=rbf;, score=0.776 total time= 8.8min\n",
      "[CV 2/5] END ....C=100, gamma=scale, kernel=rbf;, score=0.785 total time= 8.8min\n",
      "[CV 4/5] END ....C=100, gamma=scale, kernel=rbf;, score=0.772 total time= 8.4min\n",
      "[CV 3/5] END ....C=100, gamma=scale, kernel=rbf;, score=0.785 total time= 8.8min\n",
      "[CV 5/5] END ....C=100, gamma=scale, kernel=rbf;, score=0.782 total time= 8.6min\n",
      "[CV 1/5] END .....C=100, gamma=auto, kernel=rbf;, score=0.778 total time= 9.9min\n",
      "[CV 2/5] END .....C=100, gamma=auto, kernel=rbf;, score=0.786 total time= 9.9min\n",
      "[CV 3/5] END .....C=100, gamma=auto, kernel=rbf;, score=0.787 total time= 9.9min\n",
      "[CV 4/5] END .....C=100, gamma=auto, kernel=rbf;, score=0.773 total time= 9.8min\n",
      "[CV 5/5] END .....C=100, gamma=auto, kernel=rbf;, score=0.784 total time= 9.1min\n",
      "[CV 1/5] END .C=100, gamma=scale, kernel=linear;, score=0.720 total time=83.7min\n",
      "[CV 2/5] END .C=100, gamma=scale, kernel=linear;, score=0.725 total time=82.5min\n",
      "[CV 3/5] END .C=100, gamma=scale, kernel=linear;, score=0.724 total time=82.6min\n",
      "[CV 5/5] END .C=100, gamma=scale, kernel=linear;, score=0.728 total time=81.6min\n",
      "[CV 4/5] END .C=100, gamma=scale, kernel=linear;, score=0.725 total time=83.2min\n",
      "[CV 1/5] END ..C=100, gamma=auto, kernel=linear;, score=0.720 total time=80.7min\n",
      "[CV 2/5] END ..C=100, gamma=auto, kernel=linear;, score=0.725 total time=80.2min\n",
      "[CV 4/5] END ..C=100, gamma=auto, kernel=linear;, score=0.725 total time=75.2min\n",
      "[CV 5/5] END ..C=100, gamma=auto, kernel=linear;, score=0.728 total time=75.5min\n",
      "[CV 3/5] END ..C=100, gamma=auto, kernel=linear;, score=0.724 total time=76.9min\n",
      "Best SVC Hyperparameters:\n",
      "{'C': 100, 'gamma': 'auto', 'kernel': 'rbf'}\n",
      "\n",
      "\n",
      "Training IsolationForest...\n",
      "Fitting 5 folds for each of 9 candidates, totalling 45 fits\n",
      "[CV 2/5] END contamination=0.05, n_estimators=100;, score=0.483 total time=   2.1s\n",
      "[CV 1/5] END contamination=0.05, n_estimators=100;, score=0.479 total time=   3.7s\n",
      "[CV 4/5] END contamination=0.05, n_estimators=100;, score=0.472 total time=   2.3s\n",
      "[CV 3/5] END contamination=0.05, n_estimators=100;, score=0.480 total time=   4.0s\n",
      "[CV 5/5] END contamination=0.05, n_estimators=200;, score=0.468 total time=   4.7s\n",
      "[CV 5/5] END contamination=0.05, n_estimators=100;, score=0.470 total time=   3.1s\n",
      "[CV 1/5] END contamination=0.05, n_estimators=200;, score=0.479 total time=   5.4s\n",
      "[CV 2/5] END contamination=0.05, n_estimators=200;, score=0.482 total time=   6.2s\n",
      "[CV 1/5] END contamination=0.05, n_estimators=300;, score=0.479 total time=   6.8s\n",
      "[CV 1/5] END contamination=0.1, n_estimators=100;, score=0.461 total time=   2.7s\n",
      "[CV 3/5] END contamination=0.05, n_estimators=200;, score=0.481 total time=   7.8s\n",
      "[CV 2/5] END contamination=0.1, n_estimators=100;, score=0.459 total time=   3.1s\n",
      "[CV 3/5] END contamination=0.1, n_estimators=100;, score=0.460 total time=   3.1s\n",
      "[CV 4/5] END contamination=0.05, n_estimators=200;, score=0.472 total time=   8.1s\n",
      "[CV 4/5] END contamination=0.1, n_estimators=100;, score=0.449 total time=   3.1s\n",
      "[CV 5/5] END contamination=0.1, n_estimators=100;, score=0.447 total time=   2.9s\n",
      "[CV 3/5] END contamination=0.05, n_estimators=300;, score=0.482 total time=   9.3s\n",
      "[CV 2/5] END contamination=0.05, n_estimators=300;, score=0.482 total time=   9.7s\n",
      "[CV 5/5] END contamination=0.05, n_estimators=300;, score=0.470 total time=   9.1s\n",
      "[CV 1/5] END contamination=0.1, n_estimators=200;, score=0.459 total time=   5.3s\n",
      "[CV 2/5] END contamination=0.1, n_estimators=200;, score=0.464 total time=   5.4s\n",
      "[CV 4/5] END contamination=0.05, n_estimators=300;, score=0.471 total time=  11.1s\n",
      "[CV 4/5] END contamination=0.1, n_estimators=200;, score=0.450 total time=   5.5s\n",
      "[CV 5/5] END contamination=0.1, n_estimators=200;, score=0.447 total time=   5.5s\n",
      "[CV 3/5] END contamination=0.1, n_estimators=200;, score=0.462 total time=   6.3s\n",
      "[CV 2/5] END contamination=0.2, n_estimators=100;, score=0.418 total time=   2.7s\n",
      "[CV 3/5] END contamination=0.2, n_estimators=100;, score=0.418 total time=   2.9s\n",
      "[CV 1/5] END contamination=0.2, n_estimators=100;, score=0.411 total time=   3.6s\n",
      "[CV 5/5] END contamination=0.2, n_estimators=100;, score=0.409 total time=   2.8s\n",
      "[CV 4/5] END contamination=0.2, n_estimators=100;, score=0.405 total time=   3.2s\n",
      "[CV 3/5] END contamination=0.1, n_estimators=300;, score=0.461 total time=   7.8s\n",
      "[CV 1/5] END contamination=0.1, n_estimators=300;, score=0.458 total time=   8.8s\n",
      "[CV 2/5] END contamination=0.1, n_estimators=300;, score=0.462 total time=   8.6s\n",
      "[CV 5/5] END contamination=0.1, n_estimators=300;, score=0.448 total time=   8.2s\n",
      "[CV 4/5] END contamination=0.1, n_estimators=300;, score=0.450 total time=   8.4s\n",
      "[CV 1/5] END contamination=0.2, n_estimators=200;, score=0.411 total time=   5.1s\n",
      "[CV 2/5] END contamination=0.2, n_estimators=200;, score=0.408 total time=   5.4s\n",
      "[CV 3/5] END contamination=0.2, n_estimators=200;, score=0.417 total time=   5.1s\n",
      "[CV 5/5] END contamination=0.2, n_estimators=200;, score=0.404 total time=   4.6s\n",
      "[CV 4/5] END contamination=0.2, n_estimators=200;, score=0.403 total time=   5.0s\n",
      "[CV 1/5] END contamination=0.2, n_estimators=300;, score=0.416 total time=   5.6s\n",
      "[CV 5/5] END contamination=0.2, n_estimators=300;, score=0.397 total time=   4.6s\n",
      "[CV 2/5] END contamination=0.2, n_estimators=300;, score=0.415 total time=   6.1s\n",
      "[CV 4/5] END contamination=0.2, n_estimators=300;, score=0.404 total time=   5.0s\n",
      "[CV 3/5] END contamination=0.2, n_estimators=300;, score=0.423 total time=   5.6s\n",
      "Best IsolationForest Hyperparameters:\n",
      "{'contamination': 0.05, 'n_estimators': 100}\n",
      "\n",
      "\n",
      "Training MLPClassifier...\n",
      "Fitting 5 folds for each of 9 candidates, totalling 45 fits\n",
      "[CV 3/5] END alpha=0.0001, hidden_layer_sizes=(100,);, score=0.775 total time=  36.8s\n"
     ]
    },
    {
     "name": "stderr",
     "output_type": "stream",
     "text": [
      "/home/milan/anaconda3/envs/ml/lib/python3.10/site-packages/scikit_learn-1.2.2-py3.10-linux-x86_64.egg/sklearn/neural_network/_multilayer_perceptron.py:686: ConvergenceWarning: Stochastic Optimizer: Maximum iterations (200) reached and the optimization hasn't converged yet.\n",
      "  warnings.warn(\n"
     ]
    },
    {
     "name": "stdout",
     "output_type": "stream",
     "text": [
      "[CV 4/5] END alpha=0.0001, hidden_layer_sizes=(100,);, score=0.769 total time=  43.1s\n"
     ]
    },
    {
     "name": "stderr",
     "output_type": "stream",
     "text": [
      "/home/milan/anaconda3/envs/ml/lib/python3.10/site-packages/scikit_learn-1.2.2-py3.10-linux-x86_64.egg/sklearn/neural_network/_multilayer_perceptron.py:686: ConvergenceWarning: Stochastic Optimizer: Maximum iterations (200) reached and the optimization hasn't converged yet.\n",
      "  warnings.warn(\n"
     ]
    },
    {
     "name": "stdout",
     "output_type": "stream",
     "text": [
      "[CV 1/5] END alpha=0.0001, hidden_layer_sizes=(100,);, score=0.779 total time=  47.5s\n"
     ]
    },
    {
     "name": "stderr",
     "output_type": "stream",
     "text": [
      "/home/milan/anaconda3/envs/ml/lib/python3.10/site-packages/scikit_learn-1.2.2-py3.10-linux-x86_64.egg/sklearn/neural_network/_multilayer_perceptron.py:686: ConvergenceWarning: Stochastic Optimizer: Maximum iterations (200) reached and the optimization hasn't converged yet.\n",
      "  warnings.warn(\n"
     ]
    },
    {
     "name": "stdout",
     "output_type": "stream",
     "text": [
      "[CV 5/5] END alpha=0.0001, hidden_layer_sizes=(100,);, score=0.777 total time=  48.2s\n"
     ]
    },
    {
     "name": "stderr",
     "output_type": "stream",
     "text": [
      "/home/milan/anaconda3/envs/ml/lib/python3.10/site-packages/scikit_learn-1.2.2-py3.10-linux-x86_64.egg/sklearn/neural_network/_multilayer_perceptron.py:686: ConvergenceWarning: Stochastic Optimizer: Maximum iterations (200) reached and the optimization hasn't converged yet.\n",
      "  warnings.warn(\n"
     ]
    },
    {
     "name": "stdout",
     "output_type": "stream",
     "text": [
      "[CV 2/5] END alpha=0.0001, hidden_layer_sizes=(100,);, score=0.775 total time=  53.0s\n"
     ]
    },
    {
     "name": "stderr",
     "output_type": "stream",
     "text": [
      "/home/milan/anaconda3/envs/ml/lib/python3.10/site-packages/scikit_learn-1.2.2-py3.10-linux-x86_64.egg/sklearn/neural_network/_multilayer_perceptron.py:686: ConvergenceWarning: Stochastic Optimizer: Maximum iterations (200) reached and the optimization hasn't converged yet.\n",
      "  warnings.warn(\n"
     ]
    },
    {
     "name": "stdout",
     "output_type": "stream",
     "text": [
      "[CV 1/5] END alpha=0.001, hidden_layer_sizes=(100,);, score=0.781 total time=  48.1s\n"
     ]
    },
    {
     "name": "stderr",
     "output_type": "stream",
     "text": [
      "/home/milan/anaconda3/envs/ml/lib/python3.10/site-packages/scikit_learn-1.2.2-py3.10-linux-x86_64.egg/sklearn/neural_network/_multilayer_perceptron.py:686: ConvergenceWarning: Stochastic Optimizer: Maximum iterations (200) reached and the optimization hasn't converged yet.\n",
      "  warnings.warn(\n"
     ]
    },
    {
     "name": "stdout",
     "output_type": "stream",
     "text": [
      "[CV 2/5] END alpha=0.0001, hidden_layer_sizes=(100, 100);, score=0.775 total time= 1.6min\n"
     ]
    },
    {
     "name": "stderr",
     "output_type": "stream",
     "text": [
      "/home/milan/anaconda3/envs/ml/lib/python3.10/site-packages/scikit_learn-1.2.2-py3.10-linux-x86_64.egg/sklearn/neural_network/_multilayer_perceptron.py:686: ConvergenceWarning: Stochastic Optimizer: Maximum iterations (200) reached and the optimization hasn't converged yet.\n",
      "  warnings.warn(\n"
     ]
    },
    {
     "name": "stdout",
     "output_type": "stream",
     "text": [
      "[CV 5/5] END alpha=0.0001, hidden_layer_sizes=(100, 100);, score=0.772 total time= 1.7min\n"
     ]
    },
    {
     "name": "stderr",
     "output_type": "stream",
     "text": [
      "/home/milan/anaconda3/envs/ml/lib/python3.10/site-packages/scikit_learn-1.2.2-py3.10-linux-x86_64.egg/sklearn/neural_network/_multilayer_perceptron.py:686: ConvergenceWarning: Stochastic Optimizer: Maximum iterations (200) reached and the optimization hasn't converged yet.\n",
      "  warnings.warn(\n"
     ]
    },
    {
     "name": "stdout",
     "output_type": "stream",
     "text": [
      "[CV 2/5] END alpha=0.001, hidden_layer_sizes=(100,);, score=0.777 total time=  53.9s\n"
     ]
    },
    {
     "name": "stderr",
     "output_type": "stream",
     "text": [
      "/home/milan/anaconda3/envs/ml/lib/python3.10/site-packages/scikit_learn-1.2.2-py3.10-linux-x86_64.egg/sklearn/neural_network/_multilayer_perceptron.py:686: ConvergenceWarning: Stochastic Optimizer: Maximum iterations (200) reached and the optimization hasn't converged yet.\n",
      "  warnings.warn(\n"
     ]
    },
    {
     "name": "stdout",
     "output_type": "stream",
     "text": [
      "[CV 3/5] END alpha=0.0001, hidden_layer_sizes=(100, 100);, score=0.774 total time= 1.8min\n"
     ]
    },
    {
     "name": "stderr",
     "output_type": "stream",
     "text": [
      "/home/milan/anaconda3/envs/ml/lib/python3.10/site-packages/scikit_learn-1.2.2-py3.10-linux-x86_64.egg/sklearn/neural_network/_multilayer_perceptron.py:686: ConvergenceWarning: Stochastic Optimizer: Maximum iterations (200) reached and the optimization hasn't converged yet.\n",
      "  warnings.warn(\n"
     ]
    },
    {
     "name": "stdout",
     "output_type": "stream",
     "text": [
      "[CV 1/5] END alpha=0.0001, hidden_layer_sizes=(100, 100);, score=0.776 total time= 2.0min\n"
     ]
    },
    {
     "name": "stderr",
     "output_type": "stream",
     "text": [
      "/home/milan/anaconda3/envs/ml/lib/python3.10/site-packages/scikit_learn-1.2.2-py3.10-linux-x86_64.egg/sklearn/neural_network/_multilayer_perceptron.py:686: ConvergenceWarning: Stochastic Optimizer: Maximum iterations (200) reached and the optimization hasn't converged yet.\n",
      "  warnings.warn(\n"
     ]
    },
    {
     "name": "stdout",
     "output_type": "stream",
     "text": [
      "[CV 4/5] END alpha=0.0001, hidden_layer_sizes=(100, 100);, score=0.775 total time= 2.1min\n"
     ]
    },
    {
     "name": "stderr",
     "output_type": "stream",
     "text": [
      "/home/milan/anaconda3/envs/ml/lib/python3.10/site-packages/scikit_learn-1.2.2-py3.10-linux-x86_64.egg/sklearn/neural_network/_multilayer_perceptron.py:686: ConvergenceWarning: Stochastic Optimizer: Maximum iterations (200) reached and the optimization hasn't converged yet.\n",
      "  warnings.warn(\n"
     ]
    },
    {
     "name": "stdout",
     "output_type": "stream",
     "text": [
      "[CV 3/5] END alpha=0.001, hidden_layer_sizes=(100,);, score=0.772 total time=  44.8s\n"
     ]
    },
    {
     "name": "stderr",
     "output_type": "stream",
     "text": [
      "/home/milan/anaconda3/envs/ml/lib/python3.10/site-packages/scikit_learn-1.2.2-py3.10-linux-x86_64.egg/sklearn/neural_network/_multilayer_perceptron.py:686: ConvergenceWarning: Stochastic Optimizer: Maximum iterations (200) reached and the optimization hasn't converged yet.\n",
      "  warnings.warn(\n"
     ]
    },
    {
     "name": "stdout",
     "output_type": "stream",
     "text": [
      "[CV 4/5] END alpha=0.001, hidden_layer_sizes=(100,);, score=0.772 total time=  46.0s\n"
     ]
    },
    {
     "name": "stderr",
     "output_type": "stream",
     "text": [
      "/home/milan/anaconda3/envs/ml/lib/python3.10/site-packages/scikit_learn-1.2.2-py3.10-linux-x86_64.egg/sklearn/neural_network/_multilayer_perceptron.py:686: ConvergenceWarning: Stochastic Optimizer: Maximum iterations (200) reached and the optimization hasn't converged yet.\n",
      "  warnings.warn(\n"
     ]
    },
    {
     "name": "stdout",
     "output_type": "stream",
     "text": [
      "[CV 5/5] END alpha=0.001, hidden_layer_sizes=(100,);, score=0.777 total time=  50.7s\n"
     ]
    },
    {
     "name": "stderr",
     "output_type": "stream",
     "text": [
      "/home/milan/anaconda3/envs/ml/lib/python3.10/site-packages/scikit_learn-1.2.2-py3.10-linux-x86_64.egg/sklearn/neural_network/_multilayer_perceptron.py:686: ConvergenceWarning: Stochastic Optimizer: Maximum iterations (200) reached and the optimization hasn't converged yet.\n",
      "  warnings.warn(\n"
     ]
    },
    {
     "name": "stdout",
     "output_type": "stream",
     "text": [
      "[CV 1/5] END alpha=0.0001, hidden_layer_sizes=(100, 100, 100);, score=0.776 total time= 3.5min\n"
     ]
    },
    {
     "name": "stderr",
     "output_type": "stream",
     "text": [
      "/home/milan/anaconda3/envs/ml/lib/python3.10/site-packages/scikit_learn-1.2.2-py3.10-linux-x86_64.egg/sklearn/neural_network/_multilayer_perceptron.py:686: ConvergenceWarning: Stochastic Optimizer: Maximum iterations (200) reached and the optimization hasn't converged yet.\n",
      "  warnings.warn(\n"
     ]
    },
    {
     "name": "stdout",
     "output_type": "stream",
     "text": [
      "[CV 2/5] END alpha=0.0001, hidden_layer_sizes=(100, 100, 100);, score=0.776 total time= 3.6min\n"
     ]
    },
    {
     "name": "stderr",
     "output_type": "stream",
     "text": [
      "/home/milan/anaconda3/envs/ml/lib/python3.10/site-packages/scikit_learn-1.2.2-py3.10-linux-x86_64.egg/sklearn/neural_network/_multilayer_perceptron.py:686: ConvergenceWarning: Stochastic Optimizer: Maximum iterations (200) reached and the optimization hasn't converged yet.\n",
      "  warnings.warn(\n"
     ]
    },
    {
     "name": "stdout",
     "output_type": "stream",
     "text": [
      "[CV 5/5] END alpha=0.0001, hidden_layer_sizes=(100, 100, 100);, score=0.775 total time= 3.1min\n"
     ]
    },
    {
     "name": "stderr",
     "output_type": "stream",
     "text": [
      "/home/milan/anaconda3/envs/ml/lib/python3.10/site-packages/scikit_learn-1.2.2-py3.10-linux-x86_64.egg/sklearn/neural_network/_multilayer_perceptron.py:686: ConvergenceWarning: Stochastic Optimizer: Maximum iterations (200) reached and the optimization hasn't converged yet.\n",
      "  warnings.warn(\n"
     ]
    },
    {
     "name": "stdout",
     "output_type": "stream",
     "text": [
      "[CV 3/5] END alpha=0.0001, hidden_layer_sizes=(100, 100, 100);, score=0.774 total time= 3.3min\n"
     ]
    },
    {
     "name": "stderr",
     "output_type": "stream",
     "text": [
      "/home/milan/anaconda3/envs/ml/lib/python3.10/site-packages/scikit_learn-1.2.2-py3.10-linux-x86_64.egg/sklearn/neural_network/_multilayer_perceptron.py:686: ConvergenceWarning: Stochastic Optimizer: Maximum iterations (200) reached and the optimization hasn't converged yet.\n",
      "  warnings.warn(\n"
     ]
    },
    {
     "name": "stdout",
     "output_type": "stream",
     "text": [
      "[CV 1/5] END alpha=0.001, hidden_layer_sizes=(100, 100);, score=0.778 total time= 2.4min\n"
     ]
    },
    {
     "name": "stderr",
     "output_type": "stream",
     "text": [
      "/home/milan/anaconda3/envs/ml/lib/python3.10/site-packages/scikit_learn-1.2.2-py3.10-linux-x86_64.egg/sklearn/neural_network/_multilayer_perceptron.py:686: ConvergenceWarning: Stochastic Optimizer: Maximum iterations (200) reached and the optimization hasn't converged yet.\n",
      "  warnings.warn(\n"
     ]
    },
    {
     "name": "stdout",
     "output_type": "stream",
     "text": [
      "[CV 3/5] END alpha=0.001, hidden_layer_sizes=(100, 100);, score=0.781 total time= 2.3min\n"
     ]
    },
    {
     "name": "stderr",
     "output_type": "stream",
     "text": [
      "/home/milan/anaconda3/envs/ml/lib/python3.10/site-packages/scikit_learn-1.2.2-py3.10-linux-x86_64.egg/sklearn/neural_network/_multilayer_perceptron.py:686: ConvergenceWarning: Stochastic Optimizer: Maximum iterations (200) reached and the optimization hasn't converged yet.\n",
      "  warnings.warn(\n"
     ]
    },
    {
     "name": "stdout",
     "output_type": "stream",
     "text": [
      "[CV 2/5] END alpha=0.001, hidden_layer_sizes=(100, 100);, score=0.785 total time= 2.5min\n"
     ]
    },
    {
     "name": "stderr",
     "output_type": "stream",
     "text": [
      "/home/milan/anaconda3/envs/ml/lib/python3.10/site-packages/scikit_learn-1.2.2-py3.10-linux-x86_64.egg/sklearn/neural_network/_multilayer_perceptron.py:686: ConvergenceWarning: Stochastic Optimizer: Maximum iterations (200) reached and the optimization hasn't converged yet.\n",
      "  warnings.warn(\n"
     ]
    },
    {
     "name": "stdout",
     "output_type": "stream",
     "text": [
      "[CV 4/5] END alpha=0.0001, hidden_layer_sizes=(100, 100, 100);, score=0.772 total time= 3.7min\n"
     ]
    },
    {
     "name": "stderr",
     "output_type": "stream",
     "text": [
      "/home/milan/anaconda3/envs/ml/lib/python3.10/site-packages/scikit_learn-1.2.2-py3.10-linux-x86_64.egg/sklearn/neural_network/_multilayer_perceptron.py:686: ConvergenceWarning: Stochastic Optimizer: Maximum iterations (200) reached and the optimization hasn't converged yet.\n",
      "  warnings.warn(\n"
     ]
    },
    {
     "name": "stdout",
     "output_type": "stream",
     "text": [
      "[CV 4/5] END alpha=0.001, hidden_layer_sizes=(100, 100);, score=0.780 total time= 2.5min\n"
     ]
    },
    {
     "name": "stderr",
     "output_type": "stream",
     "text": [
      "/home/milan/anaconda3/envs/ml/lib/python3.10/site-packages/scikit_learn-1.2.2-py3.10-linux-x86_64.egg/sklearn/neural_network/_multilayer_perceptron.py:686: ConvergenceWarning: Stochastic Optimizer: Maximum iterations (200) reached and the optimization hasn't converged yet.\n",
      "  warnings.warn(\n"
     ]
    },
    {
     "name": "stdout",
     "output_type": "stream",
     "text": [
      "[CV 1/5] END alpha=0.01, hidden_layer_sizes=(100,);, score=0.772 total time=  54.5s\n"
     ]
    },
    {
     "name": "stderr",
     "output_type": "stream",
     "text": [
      "/home/milan/anaconda3/envs/ml/lib/python3.10/site-packages/scikit_learn-1.2.2-py3.10-linux-x86_64.egg/sklearn/neural_network/_multilayer_perceptron.py:686: ConvergenceWarning: Stochastic Optimizer: Maximum iterations (200) reached and the optimization hasn't converged yet.\n",
      "  warnings.warn(\n"
     ]
    },
    {
     "name": "stdout",
     "output_type": "stream",
     "text": [
      "[CV 5/5] END alpha=0.001, hidden_layer_sizes=(100, 100);, score=0.777 total time= 2.6min\n",
      "[CV 4/5] END alpha=0.01, hidden_layer_sizes=(100,);, score=0.774 total time=  48.6s\n"
     ]
    },
    {
     "name": "stderr",
     "output_type": "stream",
     "text": [
      "/home/milan/anaconda3/envs/ml/lib/python3.10/site-packages/scikit_learn-1.2.2-py3.10-linux-x86_64.egg/sklearn/neural_network/_multilayer_perceptron.py:686: ConvergenceWarning: Stochastic Optimizer: Maximum iterations (200) reached and the optimization hasn't converged yet.\n",
      "  warnings.warn(\n"
     ]
    },
    {
     "name": "stdout",
     "output_type": "stream",
     "text": [
      "[CV 2/5] END alpha=0.01, hidden_layer_sizes=(100,);, score=0.775 total time=  57.5s\n"
     ]
    },
    {
     "name": "stderr",
     "output_type": "stream",
     "text": [
      "/home/milan/anaconda3/envs/ml/lib/python3.10/site-packages/scikit_learn-1.2.2-py3.10-linux-x86_64.egg/sklearn/neural_network/_multilayer_perceptron.py:686: ConvergenceWarning: Stochastic Optimizer: Maximum iterations (200) reached and the optimization hasn't converged yet.\n",
      "  warnings.warn(\n"
     ]
    },
    {
     "name": "stdout",
     "output_type": "stream",
     "text": [
      "[CV 3/5] END alpha=0.01, hidden_layer_sizes=(100,);, score=0.777 total time= 1.1min\n"
     ]
    },
    {
     "name": "stderr",
     "output_type": "stream",
     "text": [
      "/home/milan/anaconda3/envs/ml/lib/python3.10/site-packages/scikit_learn-1.2.2-py3.10-linux-x86_64.egg/sklearn/neural_network/_multilayer_perceptron.py:686: ConvergenceWarning: Stochastic Optimizer: Maximum iterations (200) reached and the optimization hasn't converged yet.\n",
      "  warnings.warn(\n"
     ]
    },
    {
     "name": "stdout",
     "output_type": "stream",
     "text": [
      "[CV 5/5] END alpha=0.01, hidden_layer_sizes=(100,);, score=0.777 total time=  56.1s\n"
     ]
    },
    {
     "name": "stderr",
     "output_type": "stream",
     "text": [
      "/home/milan/anaconda3/envs/ml/lib/python3.10/site-packages/scikit_learn-1.2.2-py3.10-linux-x86_64.egg/sklearn/neural_network/_multilayer_perceptron.py:686: ConvergenceWarning: Stochastic Optimizer: Maximum iterations (200) reached and the optimization hasn't converged yet.\n",
      "  warnings.warn(\n"
     ]
    },
    {
     "name": "stdout",
     "output_type": "stream",
     "text": [
      "[CV 2/5] END alpha=0.001, hidden_layer_sizes=(100, 100, 100);, score=0.773 total time= 3.6min\n"
     ]
    },
    {
     "name": "stderr",
     "output_type": "stream",
     "text": [
      "/home/milan/anaconda3/envs/ml/lib/python3.10/site-packages/scikit_learn-1.2.2-py3.10-linux-x86_64.egg/sklearn/neural_network/_multilayer_perceptron.py:686: ConvergenceWarning: Stochastic Optimizer: Maximum iterations (200) reached and the optimization hasn't converged yet.\n",
      "  warnings.warn(\n"
     ]
    },
    {
     "name": "stdout",
     "output_type": "stream",
     "text": [
      "[CV 1/5] END alpha=0.001, hidden_layer_sizes=(100, 100, 100);, score=0.777 total time= 3.9min\n"
     ]
    },
    {
     "name": "stderr",
     "output_type": "stream",
     "text": [
      "/home/milan/anaconda3/envs/ml/lib/python3.10/site-packages/scikit_learn-1.2.2-py3.10-linux-x86_64.egg/sklearn/neural_network/_multilayer_perceptron.py:686: ConvergenceWarning: Stochastic Optimizer: Maximum iterations (200) reached and the optimization hasn't converged yet.\n",
      "  warnings.warn(\n"
     ]
    },
    {
     "name": "stdout",
     "output_type": "stream",
     "text": [
      "[CV 1/5] END alpha=0.01, hidden_layer_sizes=(100, 100);, score=0.777 total time= 2.6min\n"
     ]
    },
    {
     "name": "stderr",
     "output_type": "stream",
     "text": [
      "/home/milan/anaconda3/envs/ml/lib/python3.10/site-packages/scikit_learn-1.2.2-py3.10-linux-x86_64.egg/sklearn/neural_network/_multilayer_perceptron.py:686: ConvergenceWarning: Stochastic Optimizer: Maximum iterations (200) reached and the optimization hasn't converged yet.\n",
      "  warnings.warn(\n"
     ]
    },
    {
     "name": "stdout",
     "output_type": "stream",
     "text": [
      "[CV 4/5] END alpha=0.01, hidden_layer_sizes=(100, 100);, score=0.775 total time= 2.3min\n"
     ]
    },
    {
     "name": "stderr",
     "output_type": "stream",
     "text": [
      "/home/milan/anaconda3/envs/ml/lib/python3.10/site-packages/scikit_learn-1.2.2-py3.10-linux-x86_64.egg/sklearn/neural_network/_multilayer_perceptron.py:686: ConvergenceWarning: Stochastic Optimizer: Maximum iterations (200) reached and the optimization hasn't converged yet.\n",
      "  warnings.warn(\n"
     ]
    },
    {
     "name": "stdout",
     "output_type": "stream",
     "text": [
      "[CV 5/5] END alpha=0.01, hidden_layer_sizes=(100, 100);, score=0.780 total time= 2.3min\n"
     ]
    },
    {
     "name": "stderr",
     "output_type": "stream",
     "text": [
      "/home/milan/anaconda3/envs/ml/lib/python3.10/site-packages/scikit_learn-1.2.2-py3.10-linux-x86_64.egg/sklearn/neural_network/_multilayer_perceptron.py:686: ConvergenceWarning: Stochastic Optimizer: Maximum iterations (200) reached and the optimization hasn't converged yet.\n",
      "  warnings.warn(\n"
     ]
    },
    {
     "name": "stdout",
     "output_type": "stream",
     "text": [
      "[CV 2/5] END alpha=0.01, hidden_layer_sizes=(100, 100);, score=0.787 total time= 2.8min\n",
      "[CV 4/5] END alpha=0.001, hidden_layer_sizes=(100, 100, 100);, score=0.774 total time= 4.0min\n"
     ]
    },
    {
     "name": "stderr",
     "output_type": "stream",
     "text": [
      "/home/milan/anaconda3/envs/ml/lib/python3.10/site-packages/scikit_learn-1.2.2-py3.10-linux-x86_64.egg/sklearn/neural_network/_multilayer_perceptron.py:686: ConvergenceWarning: Stochastic Optimizer: Maximum iterations (200) reached and the optimization hasn't converged yet.\n",
      "  warnings.warn(\n"
     ]
    },
    {
     "name": "stdout",
     "output_type": "stream",
     "text": [
      "[CV 5/5] END alpha=0.001, hidden_layer_sizes=(100, 100, 100);, score=0.767 total time= 3.9min\n"
     ]
    },
    {
     "name": "stderr",
     "output_type": "stream",
     "text": [
      "/home/milan/anaconda3/envs/ml/lib/python3.10/site-packages/scikit_learn-1.2.2-py3.10-linux-x86_64.egg/sklearn/neural_network/_multilayer_perceptron.py:686: ConvergenceWarning: Stochastic Optimizer: Maximum iterations (200) reached and the optimization hasn't converged yet.\n",
      "  warnings.warn(\n"
     ]
    },
    {
     "name": "stdout",
     "output_type": "stream",
     "text": [
      "[CV 3/5] END alpha=0.001, hidden_layer_sizes=(100, 100, 100);, score=0.769 total time= 4.3min\n"
     ]
    },
    {
     "name": "stderr",
     "output_type": "stream",
     "text": [
      "/home/milan/anaconda3/envs/ml/lib/python3.10/site-packages/scikit_learn-1.2.2-py3.10-linux-x86_64.egg/sklearn/neural_network/_multilayer_perceptron.py:686: ConvergenceWarning: Stochastic Optimizer: Maximum iterations (200) reached and the optimization hasn't converged yet.\n",
      "  warnings.warn(\n"
     ]
    },
    {
     "name": "stdout",
     "output_type": "stream",
     "text": [
      "[CV 3/5] END alpha=0.01, hidden_layer_sizes=(100, 100);, score=0.780 total time= 2.9min\n",
      "[CV 1/5] END alpha=0.01, hidden_layer_sizes=(100, 100, 100);, score=0.770 total time= 3.2min\n"
     ]
    },
    {
     "name": "stderr",
     "output_type": "stream",
     "text": [
      "/home/milan/anaconda3/envs/ml/lib/python3.10/site-packages/scikit_learn-1.2.2-py3.10-linux-x86_64.egg/sklearn/neural_network/_multilayer_perceptron.py:686: ConvergenceWarning: Stochastic Optimizer: Maximum iterations (200) reached and the optimization hasn't converged yet.\n",
      "  warnings.warn(\n"
     ]
    },
    {
     "name": "stdout",
     "output_type": "stream",
     "text": [
      "[CV 2/5] END alpha=0.01, hidden_layer_sizes=(100, 100, 100);, score=0.777 total time= 3.5min\n",
      "[CV 3/5] END alpha=0.01, hidden_layer_sizes=(100, 100, 100);, score=0.770 total time= 2.7min\n"
     ]
    },
    {
     "name": "stderr",
     "output_type": "stream",
     "text": [
      "/home/milan/anaconda3/envs/ml/lib/python3.10/site-packages/scikit_learn-1.2.2-py3.10-linux-x86_64.egg/sklearn/neural_network/_multilayer_perceptron.py:686: ConvergenceWarning: Stochastic Optimizer: Maximum iterations (200) reached and the optimization hasn't converged yet.\n",
      "  warnings.warn(\n"
     ]
    },
    {
     "name": "stdout",
     "output_type": "stream",
     "text": [
      "[CV 5/5] END alpha=0.01, hidden_layer_sizes=(100, 100, 100);, score=0.780 total time= 1.9min\n"
     ]
    },
    {
     "name": "stderr",
     "output_type": "stream",
     "text": [
      "/home/milan/anaconda3/envs/ml/lib/python3.10/site-packages/scikit_learn-1.2.2-py3.10-linux-x86_64.egg/sklearn/neural_network/_multilayer_perceptron.py:686: ConvergenceWarning: Stochastic Optimizer: Maximum iterations (200) reached and the optimization hasn't converged yet.\n",
      "  warnings.warn(\n"
     ]
    },
    {
     "name": "stdout",
     "output_type": "stream",
     "text": [
      "[CV 4/5] END alpha=0.01, hidden_layer_sizes=(100, 100, 100);, score=0.774 total time= 3.0min\n",
      "Best MLPClassifier Hyperparameters:\n",
      "{'alpha': 0.001, 'hidden_layer_sizes': (100, 100)}\n",
      "\n",
      "\n",
      "Random Forest Accuracy: 0.8445324202867537\n",
      "XGBClassifier Accuracy: 0.8341536486197304\n",
      "SVC Accuracy: 0.7778728867964905\n",
      "IsolationForest Accuracy: 0.4754975390541408\n",
      "MLPClassifier Accuracy: 0.7826877808688208\n"
     ]
    }
   ],
   "source": [
    "from sklearn.model_selection import GridSearchCV\n",
    "from sklearn.metrics import accuracy_score\n",
    "\n",
    "def evaluate_model(X_train, y_train, X_test, y_test, models, param_grids):\n",
    "    report = {}\n",
    "\n",
    "    for model_name, model in models.items():\n",
    "        print(f\"Training {model_name}...\")\n",
    "        \n",
    "        # Perform hyperparameter tuning using GridSearchCV\n",
    "        grid_search = GridSearchCV(model, param_grid=param_grids[model_name], cv=5, verbose=3, scoring='accuracy', n_jobs=-1)\n",
    "        grid_search.fit(X_train, y_train)\n",
    "\n",
    "        # Get the best model\n",
    "        best_model = grid_search.best_estimator_\n",
    "        \n",
    "        # Predict Testing data\n",
    "        y_test_pred = best_model.predict(X_test)\n",
    "\n",
    "        # Get accuracy for test data prediction\n",
    "        test_model_score = accuracy_score(y_test, y_test_pred)\n",
    "\n",
    "        report[model_name] = test_model_score\n",
    "        \n",
    "        # Print the best model's hyperparameters\n",
    "        print(f\"Best {model_name} Hyperparameters:\")\n",
    "        print(grid_search.best_params_)\n",
    "        print(\"\\n\")\n",
    "\n",
    "    return report\n",
    "\n",
    "\n",
    "param_grids = {\n",
    "    'Random Forest': {\n",
    "        'n_estimators': [100, 200, 300],\n",
    "        'max_depth': [None, 5, 10],\n",
    "        'min_samples_split': [2, 5, 10]\n",
    "    },\n",
    "    'XGBClassifier': {\n",
    "        'n_estimators': [100, 200, 300],\n",
    "        'max_depth': [3, 5, 7],\n",
    "        'learning_rate': [0.1, 0.01, 0.001]\n",
    "    },\n",
    "    'SVC': {\n",
    "        'C': [1, 10, 100],\n",
    "        'kernel': ['linear', 'rbf'],\n",
    "        'gamma': ['scale', 'auto']\n",
    "    },\n",
    "    'IsolationForest': {\n",
    "        'contamination': [0.05, 0.1, 0.2],\n",
    "        'n_estimators': [100, 200, 300]\n",
    "    },\n",
    "    'MLPClassifier': {\n",
    "        'hidden_layer_sizes': [(100,), (100, 100), (100, 100, 100)],\n",
    "        'alpha': [0.0001, 0.001, 0.01]\n",
    "    }\n",
    "}\n",
    "\n",
    "report = evaluate_model(X_train, y_train, X_test, y_test, models, param_grids)\n",
    "\n",
    "# Print the evaluation report\n",
    "for model_name, accuracy in report.items():\n",
    "    print(f\"{model_name} Accuracy: {accuracy}\")\n"
   ]
  },
  {
   "cell_type": "code",
   "execution_count": 50,
   "id": "127e48a5",
   "metadata": {},
   "outputs": [],
   "source": [
    "# As we can see the best model is Random forest with hyper parameters."
   ]
  },
  {
   "cell_type": "code",
   "execution_count": 53,
   "id": "570b9bc1",
   "metadata": {},
   "outputs": [
    {
     "name": "stdout",
     "output_type": "stream",
     "text": [
      "Classification Report:\n",
      "              precision    recall  f1-score   support\n",
      "\n",
      "           0       0.83      0.87      0.85      4664\n",
      "           1       0.86      0.82      0.84      4682\n",
      "\n",
      "    accuracy                           0.84      9346\n",
      "   macro avg       0.84      0.84      0.84      9346\n",
      "weighted avg       0.84      0.84      0.84      9346\n",
      "\n"
     ]
    },
    {
     "data": {
      "image/png": "[encoded data removed]",
      "text/plain": [
       "<Figure size 800x600 with 1 Axes>"
      ]
     },
     "metadata": {},
     "output_type": "display_data"
    }
   ],
   "source": [
    "from sklearn.ensemble import RandomForestClassifier\n",
    "from sklearn.metrics import classification_report, confusion_matrix\n",
    "import seaborn as sns\n",
    "import matplotlib.pyplot as plt\n",
    "\n",
    "# Create a new Random Forest model with the best parameters\n",
    "rf_model = RandomForestClassifier(max_depth= None, min_samples_split= 2, n_estimators= 200)\n",
    "\n",
    "# Fit the model on the training data\n",
    "rf_model.fit(X_train, y_train)\n",
    "\n",
    "# Make predictions on the test data\n",
    "y_pred = rf_model.predict(X_test)\n",
    "\n",
    "# Display the classification report\n",
    "print(\"Classification Report:\")\n",
    "print(classification_report(y_test, y_pred))\n",
    "\n",
    "# Calculate the confusion matrix\n",
    "cm = confusion_matrix(y_test, y_pred)\n",
    "\n",
    "# Plot the confusion matrix as a heatmap\n",
    "plt.figure(figsize=(8, 6))\n",
    "sns.heatmap(cm, annot=True, fmt='d', cmap='Blues', cbar=False)\n",
    "plt.title(\"Confusion Matrix\")\n",
    "plt.xlabel(\"Predicted Labels\")\n",
    "plt.ylabel(\"True Labels\")\n",
    "plt.show()\n"
   ]
  },
  {
   "cell_type": "code",
   "execution_count": null,
   "id": "830893fd",
   "metadata": {},
   "outputs": [],
   "source": []
  }
 ],
 "metadata": {
  "kernelspec": {
   "display_name": "Python 3 (ipykernel)",
   "language": "python",
   "name": "python3"
  },
  "language_info": {
   "codemirror_mode": {
    "name": "ipython",
    "version": 3
   },
   "file_extension": ".py",
   "mimetype": "text/x-python",
   "name": "python",
   "nbconvert_exporter": "python",
   "pygments_lexer": "ipython3",
   "version": "3.10.11"
  }
 },
 "nbformat": 4,
 "nbformat_minor": 5
}
